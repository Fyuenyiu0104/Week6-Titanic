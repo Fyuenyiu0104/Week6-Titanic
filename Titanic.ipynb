{
 "cells": [
  {
   "cell_type": "code",
   "execution_count": 1,
   "id": "27a3cdb0",
   "metadata": {
    "_cell_guid": "b1076dfc-b9ad-4769-8c92-a6c4dae69d19",
    "_uuid": "8f2839f25d086af736a60e9eeb907d3b93b6e0e5",
    "execution": {
     "iopub.execute_input": "2024-08-14T03:38:46.128955Z",
     "iopub.status.busy": "2024-08-14T03:38:46.128524Z",
     "iopub.status.idle": "2024-08-14T03:38:46.885319Z",
     "shell.execute_reply": "2024-08-14T03:38:46.884196Z"
    },
    "papermill": {
     "duration": 0.770564,
     "end_time": "2024-08-14T03:38:46.887495",
     "exception": false,
     "start_time": "2024-08-14T03:38:46.116931",
     "status": "completed"
    },
    "tags": []
   },
   "outputs": [
    {
     "name": "stdout",
     "output_type": "stream",
     "text": [
      "/kaggle/input/titanic/train.csv\n",
      "/kaggle/input/titanic/test.csv\n",
      "/kaggle/input/titanic/gender_submission.csv\n"
     ]
    }
   ],
   "source": [
    "# This Python 3 environment comes with many helpful analytics libraries installed\n",
    "# It is defined by the kaggle/python Docker image: https://github.com/kaggle/docker-python\n",
    "# For example, here's several helpful packages to load\n",
    "\n",
    "import numpy as np # linear algebra\n",
    "import pandas as pd # data processing, CSV file I/O (e.g. pd.read_csv)\n",
    "\n",
    "# Input data files are available in the read-only \"../input/\" directory\n",
    "# For example, running this (by clicking run or pressing Shift+Enter) will list all files under the input directory\n",
    "\n",
    "import os\n",
    "for dirname, _, filenames in os.walk('/kaggle/input'):\n",
    "    for filename in filenames:\n",
    "        print(os.path.join(dirname, filename))\n",
    "\n",
    "# You can write up to 20GB to the current directory (/kaggle/working/) that gets preserved as output when you create a version using \"Save & Run All\" \n",
    "# You can also write temporary files to /kaggle/temp/, but they won't be saved outside of the current session"
   ]
  },
  {
   "cell_type": "code",
   "execution_count": 2,
   "id": "504a28c9",
   "metadata": {
    "execution": {
     "iopub.execute_input": "2024-08-14T03:38:46.908585Z",
     "iopub.status.busy": "2024-08-14T03:38:46.908054Z",
     "iopub.status.idle": "2024-08-14T03:39:03.439622Z",
     "shell.execute_reply": "2024-08-14T03:39:03.438679Z"
    },
    "papermill": {
     "duration": 16.544482,
     "end_time": "2024-08-14T03:39:03.441998",
     "exception": false,
     "start_time": "2024-08-14T03:38:46.897516",
     "status": "completed"
    },
    "tags": []
   },
   "outputs": [
    {
     "name": "stdout",
     "output_type": "stream",
     "text": [
      "Requirement already satisfied: tensorflow_decision_forests in /opt/conda/lib/python3.10/site-packages (1.8.1)\r\n",
      "Requirement already satisfied: numpy in /opt/conda/lib/python3.10/site-packages (from tensorflow_decision_forests) (1.26.4)\r\n",
      "Requirement already satisfied: pandas in /opt/conda/lib/python3.10/site-packages (from tensorflow_decision_forests) (2.2.2)\r\n",
      "Requirement already satisfied: tensorflow~=2.15.0 in /opt/conda/lib/python3.10/site-packages (from tensorflow_decision_forests) (2.15.0)\r\n",
      "Requirement already satisfied: six in /opt/conda/lib/python3.10/site-packages (from tensorflow_decision_forests) (1.16.0)\r\n",
      "Requirement already satisfied: absl-py in /opt/conda/lib/python3.10/site-packages (from tensorflow_decision_forests) (1.4.0)\r\n",
      "Requirement already satisfied: wheel in /opt/conda/lib/python3.10/site-packages (from tensorflow_decision_forests) (0.42.0)\r\n",
      "Collecting wurlitzer (from tensorflow_decision_forests)\r\n",
      "  Downloading wurlitzer-3.1.1-py3-none-any.whl.metadata (2.5 kB)\r\n",
      "Requirement already satisfied: astunparse>=1.6.0 in /opt/conda/lib/python3.10/site-packages (from tensorflow~=2.15.0->tensorflow_decision_forests) (1.6.3)\r\n",
      "Requirement already satisfied: flatbuffers>=23.5.26 in /opt/conda/lib/python3.10/site-packages (from tensorflow~=2.15.0->tensorflow_decision_forests) (23.5.26)\r\n",
      "Requirement already satisfied: gast!=0.5.0,!=0.5.1,!=0.5.2,>=0.2.1 in /opt/conda/lib/python3.10/site-packages (from tensorflow~=2.15.0->tensorflow_decision_forests) (0.5.4)\r\n",
      "Requirement already satisfied: google-pasta>=0.1.1 in /opt/conda/lib/python3.10/site-packages (from tensorflow~=2.15.0->tensorflow_decision_forests) (0.2.0)\r\n",
      "Requirement already satisfied: h5py>=2.9.0 in /opt/conda/lib/python3.10/site-packages (from tensorflow~=2.15.0->tensorflow_decision_forests) (3.10.0)\r\n",
      "Requirement already satisfied: libclang>=13.0.0 in /opt/conda/lib/python3.10/site-packages (from tensorflow~=2.15.0->tensorflow_decision_forests) (16.0.6)\r\n",
      "Requirement already satisfied: ml-dtypes~=0.2.0 in /opt/conda/lib/python3.10/site-packages (from tensorflow~=2.15.0->tensorflow_decision_forests) (0.2.0)\r\n",
      "Requirement already satisfied: opt-einsum>=2.3.2 in /opt/conda/lib/python3.10/site-packages (from tensorflow~=2.15.0->tensorflow_decision_forests) (3.3.0)\r\n",
      "Requirement already satisfied: packaging in /opt/conda/lib/python3.10/site-packages (from tensorflow~=2.15.0->tensorflow_decision_forests) (21.3)\r\n",
      "Requirement already satisfied: protobuf!=4.21.0,!=4.21.1,!=4.21.2,!=4.21.3,!=4.21.4,!=4.21.5,<5.0.0dev,>=3.20.3 in /opt/conda/lib/python3.10/site-packages (from tensorflow~=2.15.0->tensorflow_decision_forests) (3.20.3)\r\n",
      "Requirement already satisfied: setuptools in /opt/conda/lib/python3.10/site-packages (from tensorflow~=2.15.0->tensorflow_decision_forests) (69.0.3)\r\n",
      "Requirement already satisfied: termcolor>=1.1.0 in /opt/conda/lib/python3.10/site-packages (from tensorflow~=2.15.0->tensorflow_decision_forests) (2.4.0)\r\n",
      "Requirement already satisfied: typing-extensions>=3.6.6 in /opt/conda/lib/python3.10/site-packages (from tensorflow~=2.15.0->tensorflow_decision_forests) (4.9.0)\r\n",
      "Requirement already satisfied: wrapt<1.15,>=1.11.0 in /opt/conda/lib/python3.10/site-packages (from tensorflow~=2.15.0->tensorflow_decision_forests) (1.14.1)\r\n",
      "Requirement already satisfied: tensorflow-io-gcs-filesystem>=0.23.1 in /opt/conda/lib/python3.10/site-packages (from tensorflow~=2.15.0->tensorflow_decision_forests) (0.35.0)\r\n",
      "Requirement already satisfied: grpcio<2.0,>=1.24.3 in /opt/conda/lib/python3.10/site-packages (from tensorflow~=2.15.0->tensorflow_decision_forests) (1.60.0)\r\n",
      "Requirement already satisfied: tensorboard<2.16,>=2.15 in /opt/conda/lib/python3.10/site-packages (from tensorflow~=2.15.0->tensorflow_decision_forests) (2.15.1)\r\n",
      "Requirement already satisfied: tensorflow-estimator<2.16,>=2.15.0 in /opt/conda/lib/python3.10/site-packages (from tensorflow~=2.15.0->tensorflow_decision_forests) (2.15.0)\r\n",
      "Collecting keras<2.16,>=2.15.0 (from tensorflow~=2.15.0->tensorflow_decision_forests)\r\n",
      "  Downloading keras-2.15.0-py3-none-any.whl.metadata (2.4 kB)\r\n",
      "Requirement already satisfied: python-dateutil>=2.8.2 in /opt/conda/lib/python3.10/site-packages (from pandas->tensorflow_decision_forests) (2.9.0.post0)\r\n",
      "Requirement already satisfied: pytz>=2020.1 in /opt/conda/lib/python3.10/site-packages (from pandas->tensorflow_decision_forests) (2023.3.post1)\r\n",
      "Requirement already satisfied: tzdata>=2022.7 in /opt/conda/lib/python3.10/site-packages (from pandas->tensorflow_decision_forests) (2023.4)\r\n",
      "Requirement already satisfied: google-auth<3,>=1.6.3 in /opt/conda/lib/python3.10/site-packages (from tensorboard<2.16,>=2.15->tensorflow~=2.15.0->tensorflow_decision_forests) (2.26.1)\r\n",
      "Requirement already satisfied: google-auth-oauthlib<2,>=0.5 in /opt/conda/lib/python3.10/site-packages (from tensorboard<2.16,>=2.15->tensorflow~=2.15.0->tensorflow_decision_forests) (1.2.0)\r\n",
      "Requirement already satisfied: markdown>=2.6.8 in /opt/conda/lib/python3.10/site-packages (from tensorboard<2.16,>=2.15->tensorflow~=2.15.0->tensorflow_decision_forests) (3.5.2)\r\n",
      "Requirement already satisfied: requests<3,>=2.21.0 in /opt/conda/lib/python3.10/site-packages (from tensorboard<2.16,>=2.15->tensorflow~=2.15.0->tensorflow_decision_forests) (2.32.3)\r\n",
      "Requirement already satisfied: tensorboard-data-server<0.8.0,>=0.7.0 in /opt/conda/lib/python3.10/site-packages (from tensorboard<2.16,>=2.15->tensorflow~=2.15.0->tensorflow_decision_forests) (0.7.2)\r\n",
      "Requirement already satisfied: werkzeug>=1.0.1 in /opt/conda/lib/python3.10/site-packages (from tensorboard<2.16,>=2.15->tensorflow~=2.15.0->tensorflow_decision_forests) (3.0.3)\r\n",
      "Requirement already satisfied: pyparsing!=3.0.5,>=2.0.2 in /opt/conda/lib/python3.10/site-packages (from packaging->tensorflow~=2.15.0->tensorflow_decision_forests) (3.1.1)\r\n",
      "Requirement already satisfied: cachetools<6.0,>=2.0.0 in /opt/conda/lib/python3.10/site-packages (from google-auth<3,>=1.6.3->tensorboard<2.16,>=2.15->tensorflow~=2.15.0->tensorflow_decision_forests) (4.2.4)\r\n",
      "Requirement already satisfied: pyasn1-modules>=0.2.1 in /opt/conda/lib/python3.10/site-packages (from google-auth<3,>=1.6.3->tensorboard<2.16,>=2.15->tensorflow~=2.15.0->tensorflow_decision_forests) (0.3.0)\r\n",
      "Requirement already satisfied: rsa<5,>=3.1.4 in /opt/conda/lib/python3.10/site-packages (from google-auth<3,>=1.6.3->tensorboard<2.16,>=2.15->tensorflow~=2.15.0->tensorflow_decision_forests) (4.9)\r\n",
      "Requirement already satisfied: requests-oauthlib>=0.7.0 in /opt/conda/lib/python3.10/site-packages (from google-auth-oauthlib<2,>=0.5->tensorboard<2.16,>=2.15->tensorflow~=2.15.0->tensorflow_decision_forests) (1.3.1)\r\n",
      "Requirement already satisfied: charset-normalizer<4,>=2 in /opt/conda/lib/python3.10/site-packages (from requests<3,>=2.21.0->tensorboard<2.16,>=2.15->tensorflow~=2.15.0->tensorflow_decision_forests) (3.3.2)\r\n",
      "Requirement already satisfied: idna<4,>=2.5 in /opt/conda/lib/python3.10/site-packages (from requests<3,>=2.21.0->tensorboard<2.16,>=2.15->tensorflow~=2.15.0->tensorflow_decision_forests) (3.6)\r\n",
      "Requirement already satisfied: urllib3<3,>=1.21.1 in /opt/conda/lib/python3.10/site-packages (from requests<3,>=2.21.0->tensorboard<2.16,>=2.15->tensorflow~=2.15.0->tensorflow_decision_forests) (1.26.18)\r\n",
      "Requirement already satisfied: certifi>=2017.4.17 in /opt/conda/lib/python3.10/site-packages (from requests<3,>=2.21.0->tensorboard<2.16,>=2.15->tensorflow~=2.15.0->tensorflow_decision_forests) (2024.7.4)\r\n",
      "Requirement already satisfied: MarkupSafe>=2.1.1 in /opt/conda/lib/python3.10/site-packages (from werkzeug>=1.0.1->tensorboard<2.16,>=2.15->tensorflow~=2.15.0->tensorflow_decision_forests) (2.1.3)\r\n",
      "Requirement already satisfied: pyasn1<0.6.0,>=0.4.6 in /opt/conda/lib/python3.10/site-packages (from pyasn1-modules>=0.2.1->google-auth<3,>=1.6.3->tensorboard<2.16,>=2.15->tensorflow~=2.15.0->tensorflow_decision_forests) (0.5.1)\r\n",
      "Requirement already satisfied: oauthlib>=3.0.0 in /opt/conda/lib/python3.10/site-packages (from requests-oauthlib>=0.7.0->google-auth-oauthlib<2,>=0.5->tensorboard<2.16,>=2.15->tensorflow~=2.15.0->tensorflow_decision_forests) (3.2.2)\r\n",
      "Downloading wurlitzer-3.1.1-py3-none-any.whl (8.6 kB)\r\n",
      "Downloading keras-2.15.0-py3-none-any.whl (1.7 MB)\r\n",
      "\u001b[2K   \u001b[90m━━━━━━━━━━━━━━━━━━━━━━━━━━━━━━━━━━━━━━━━\u001b[0m \u001b[32m1.7/1.7 MB\u001b[0m \u001b[31m17.2 MB/s\u001b[0m eta \u001b[36m0:00:00\u001b[0m\r\n",
      "\u001b[?25hInstalling collected packages: wurlitzer, keras\r\n",
      "  Attempting uninstall: keras\r\n",
      "    Found existing installation: keras 3.4.1\r\n",
      "    Uninstalling keras-3.4.1:\r\n",
      "      Successfully uninstalled keras-3.4.1\r\n",
      "Successfully installed keras-2.15.0 wurlitzer-3.1.1\r\n"
     ]
    }
   ],
   "source": [
    "# Install TensorFlow Decision Forests.\n",
    "\n",
    "!pip install tensorflow_decision_forests"
   ]
  },
  {
   "cell_type": "code",
   "execution_count": 3,
   "id": "c77bbead",
   "metadata": {
    "execution": {
     "iopub.execute_input": "2024-08-14T03:39:03.467125Z",
     "iopub.status.busy": "2024-08-14T03:39:03.466788Z",
     "iopub.status.idle": "2024-08-14T03:39:18.925624Z",
     "shell.execute_reply": "2024-08-14T03:39:18.924501Z"
    },
    "papermill": {
     "duration": 15.474147,
     "end_time": "2024-08-14T03:39:18.928156",
     "exception": false,
     "start_time": "2024-08-14T03:39:03.454009",
     "status": "completed"
    },
    "tags": []
   },
   "outputs": [
    {
     "name": "stdout",
     "output_type": "stream",
     "text": [
      "2024-08-14 03:39:06.408216: E external/local_xla/xla/stream_executor/cuda/cuda_dnn.cc:9261] Unable to register cuDNN factory: Attempting to register factory for plugin cuDNN when one has already been registered\r\n",
      "2024-08-14 03:39:06.408342: E external/local_xla/xla/stream_executor/cuda/cuda_fft.cc:607] Unable to register cuFFT factory: Attempting to register factory for plugin cuFFT when one has already been registered\r\n",
      "2024-08-14 03:39:06.540872: E external/local_xla/xla/stream_executor/cuda/cuda_blas.cc:1515] Unable to register cuBLAS factory: Attempting to register factory for plugin cuBLAS when one has already been registered\r\n",
      "Found TF-DF v1.8.1\r\n"
     ]
    }
   ],
   "source": [
    "# Check the version of TensorFlow Decision Forests.\n",
    "!python3 -c \"import tensorflow_decision_forests as tfdf; print('Found TF-DF v' + tfdf.__version__)\""
   ]
  },
  {
   "cell_type": "code",
   "execution_count": 4,
   "id": "b0570855",
   "metadata": {
    "execution": {
     "iopub.execute_input": "2024-08-14T03:39:18.954835Z",
     "iopub.status.busy": "2024-08-14T03:39:18.954071Z",
     "iopub.status.idle": "2024-08-14T03:39:22.565934Z",
     "shell.execute_reply": "2024-08-14T03:39:22.565116Z"
    },
    "papermill": {
     "duration": 3.627858,
     "end_time": "2024-08-14T03:39:22.568163",
     "exception": false,
     "start_time": "2024-08-14T03:39:18.940305",
     "status": "completed"
    },
    "tags": []
   },
   "outputs": [
    {
     "name": "stderr",
     "output_type": "stream",
     "text": [
      "2024-08-14 03:39:19.327398: E external/local_xla/xla/stream_executor/cuda/cuda_dnn.cc:9261] Unable to register cuDNN factory: Attempting to register factory for plugin cuDNN when one has already been registered\n",
      "2024-08-14 03:39:19.327452: E external/local_xla/xla/stream_executor/cuda/cuda_fft.cc:607] Unable to register cuFFT factory: Attempting to register factory for plugin cuFFT when one has already been registered\n",
      "2024-08-14 03:39:19.329008: E external/local_xla/xla/stream_executor/cuda/cuda_blas.cc:1515] Unable to register cuBLAS factory: Attempting to register factory for plugin cuBLAS when one has already been registered\n"
     ]
    },
    {
     "name": "stdout",
     "output_type": "stream",
     "text": [
      "Found TF-DF 1.8.1\n"
     ]
    }
   ],
   "source": [
    "import numpy as np\n",
    "import pandas as pd\n",
    "import os\n",
    "\n",
    "import tensorflow as tf\n",
    "import tensorflow_decision_forests as tfdf\n",
    "\n",
    "print(f\"Found TF-DF {tfdf.__version__}\")"
   ]
  },
  {
   "cell_type": "code",
   "execution_count": 5,
   "id": "a76bfa9a",
   "metadata": {
    "execution": {
     "iopub.execute_input": "2024-08-14T03:39:22.595375Z",
     "iopub.status.busy": "2024-08-14T03:39:22.594810Z",
     "iopub.status.idle": "2024-08-14T03:39:22.639754Z",
     "shell.execute_reply": "2024-08-14T03:39:22.638894Z"
    },
    "papermill": {
     "duration": 0.059929,
     "end_time": "2024-08-14T03:39:22.641725",
     "exception": false,
     "start_time": "2024-08-14T03:39:22.581796",
     "status": "completed"
    },
    "tags": []
   },
   "outputs": [
    {
     "data": {
      "text/html": [
       "<div>\n",
       "<style scoped>\n",
       "    .dataframe tbody tr th:only-of-type {\n",
       "        vertical-align: middle;\n",
       "    }\n",
       "\n",
       "    .dataframe tbody tr th {\n",
       "        vertical-align: top;\n",
       "    }\n",
       "\n",
       "    .dataframe thead th {\n",
       "        text-align: right;\n",
       "    }\n",
       "</style>\n",
       "<table border=\"1\" class=\"dataframe\">\n",
       "  <thead>\n",
       "    <tr style=\"text-align: right;\">\n",
       "      <th></th>\n",
       "      <th>PassengerId</th>\n",
       "      <th>Survived</th>\n",
       "      <th>Pclass</th>\n",
       "      <th>Name</th>\n",
       "      <th>Sex</th>\n",
       "      <th>Age</th>\n",
       "      <th>SibSp</th>\n",
       "      <th>Parch</th>\n",
       "      <th>Ticket</th>\n",
       "      <th>Fare</th>\n",
       "      <th>Cabin</th>\n",
       "      <th>Embarked</th>\n",
       "    </tr>\n",
       "  </thead>\n",
       "  <tbody>\n",
       "    <tr>\n",
       "      <th>0</th>\n",
       "      <td>1</td>\n",
       "      <td>0</td>\n",
       "      <td>3</td>\n",
       "      <td>Braund, Mr. Owen Harris</td>\n",
       "      <td>male</td>\n",
       "      <td>22.0</td>\n",
       "      <td>1</td>\n",
       "      <td>0</td>\n",
       "      <td>A/5 21171</td>\n",
       "      <td>7.2500</td>\n",
       "      <td>NaN</td>\n",
       "      <td>S</td>\n",
       "    </tr>\n",
       "    <tr>\n",
       "      <th>1</th>\n",
       "      <td>2</td>\n",
       "      <td>1</td>\n",
       "      <td>1</td>\n",
       "      <td>Cumings, Mrs. John Bradley (Florence Briggs Th...</td>\n",
       "      <td>female</td>\n",
       "      <td>38.0</td>\n",
       "      <td>1</td>\n",
       "      <td>0</td>\n",
       "      <td>PC 17599</td>\n",
       "      <td>71.2833</td>\n",
       "      <td>C85</td>\n",
       "      <td>C</td>\n",
       "    </tr>\n",
       "    <tr>\n",
       "      <th>2</th>\n",
       "      <td>3</td>\n",
       "      <td>1</td>\n",
       "      <td>3</td>\n",
       "      <td>Heikkinen, Miss. Laina</td>\n",
       "      <td>female</td>\n",
       "      <td>26.0</td>\n",
       "      <td>0</td>\n",
       "      <td>0</td>\n",
       "      <td>STON/O2. 3101282</td>\n",
       "      <td>7.9250</td>\n",
       "      <td>NaN</td>\n",
       "      <td>S</td>\n",
       "    </tr>\n",
       "    <tr>\n",
       "      <th>3</th>\n",
       "      <td>4</td>\n",
       "      <td>1</td>\n",
       "      <td>1</td>\n",
       "      <td>Futrelle, Mrs. Jacques Heath (Lily May Peel)</td>\n",
       "      <td>female</td>\n",
       "      <td>35.0</td>\n",
       "      <td>1</td>\n",
       "      <td>0</td>\n",
       "      <td>113803</td>\n",
       "      <td>53.1000</td>\n",
       "      <td>C123</td>\n",
       "      <td>S</td>\n",
       "    </tr>\n",
       "    <tr>\n",
       "      <th>4</th>\n",
       "      <td>5</td>\n",
       "      <td>0</td>\n",
       "      <td>3</td>\n",
       "      <td>Allen, Mr. William Henry</td>\n",
       "      <td>male</td>\n",
       "      <td>35.0</td>\n",
       "      <td>0</td>\n",
       "      <td>0</td>\n",
       "      <td>373450</td>\n",
       "      <td>8.0500</td>\n",
       "      <td>NaN</td>\n",
       "      <td>S</td>\n",
       "    </tr>\n",
       "    <tr>\n",
       "      <th>5</th>\n",
       "      <td>6</td>\n",
       "      <td>0</td>\n",
       "      <td>3</td>\n",
       "      <td>Moran, Mr. James</td>\n",
       "      <td>male</td>\n",
       "      <td>NaN</td>\n",
       "      <td>0</td>\n",
       "      <td>0</td>\n",
       "      <td>330877</td>\n",
       "      <td>8.4583</td>\n",
       "      <td>NaN</td>\n",
       "      <td>Q</td>\n",
       "    </tr>\n",
       "    <tr>\n",
       "      <th>6</th>\n",
       "      <td>7</td>\n",
       "      <td>0</td>\n",
       "      <td>1</td>\n",
       "      <td>McCarthy, Mr. Timothy J</td>\n",
       "      <td>male</td>\n",
       "      <td>54.0</td>\n",
       "      <td>0</td>\n",
       "      <td>0</td>\n",
       "      <td>17463</td>\n",
       "      <td>51.8625</td>\n",
       "      <td>E46</td>\n",
       "      <td>S</td>\n",
       "    </tr>\n",
       "    <tr>\n",
       "      <th>7</th>\n",
       "      <td>8</td>\n",
       "      <td>0</td>\n",
       "      <td>3</td>\n",
       "      <td>Palsson, Master. Gosta Leonard</td>\n",
       "      <td>male</td>\n",
       "      <td>2.0</td>\n",
       "      <td>3</td>\n",
       "      <td>1</td>\n",
       "      <td>349909</td>\n",
       "      <td>21.0750</td>\n",
       "      <td>NaN</td>\n",
       "      <td>S</td>\n",
       "    </tr>\n",
       "    <tr>\n",
       "      <th>8</th>\n",
       "      <td>9</td>\n",
       "      <td>1</td>\n",
       "      <td>3</td>\n",
       "      <td>Johnson, Mrs. Oscar W (Elisabeth Vilhelmina Berg)</td>\n",
       "      <td>female</td>\n",
       "      <td>27.0</td>\n",
       "      <td>0</td>\n",
       "      <td>2</td>\n",
       "      <td>347742</td>\n",
       "      <td>11.1333</td>\n",
       "      <td>NaN</td>\n",
       "      <td>S</td>\n",
       "    </tr>\n",
       "    <tr>\n",
       "      <th>9</th>\n",
       "      <td>10</td>\n",
       "      <td>1</td>\n",
       "      <td>2</td>\n",
       "      <td>Nasser, Mrs. Nicholas (Adele Achem)</td>\n",
       "      <td>female</td>\n",
       "      <td>14.0</td>\n",
       "      <td>1</td>\n",
       "      <td>0</td>\n",
       "      <td>237736</td>\n",
       "      <td>30.0708</td>\n",
       "      <td>NaN</td>\n",
       "      <td>C</td>\n",
       "    </tr>\n",
       "  </tbody>\n",
       "</table>\n",
       "</div>"
      ],
      "text/plain": [
       "   PassengerId  Survived  Pclass  \\\n",
       "0            1         0       3   \n",
       "1            2         1       1   \n",
       "2            3         1       3   \n",
       "3            4         1       1   \n",
       "4            5         0       3   \n",
       "5            6         0       3   \n",
       "6            7         0       1   \n",
       "7            8         0       3   \n",
       "8            9         1       3   \n",
       "9           10         1       2   \n",
       "\n",
       "                                                Name     Sex   Age  SibSp  \\\n",
       "0                            Braund, Mr. Owen Harris    male  22.0      1   \n",
       "1  Cumings, Mrs. John Bradley (Florence Briggs Th...  female  38.0      1   \n",
       "2                             Heikkinen, Miss. Laina  female  26.0      0   \n",
       "3       Futrelle, Mrs. Jacques Heath (Lily May Peel)  female  35.0      1   \n",
       "4                           Allen, Mr. William Henry    male  35.0      0   \n",
       "5                                   Moran, Mr. James    male   NaN      0   \n",
       "6                            McCarthy, Mr. Timothy J    male  54.0      0   \n",
       "7                     Palsson, Master. Gosta Leonard    male   2.0      3   \n",
       "8  Johnson, Mrs. Oscar W (Elisabeth Vilhelmina Berg)  female  27.0      0   \n",
       "9                Nasser, Mrs. Nicholas (Adele Achem)  female  14.0      1   \n",
       "\n",
       "   Parch            Ticket     Fare Cabin Embarked  \n",
       "0      0         A/5 21171   7.2500   NaN        S  \n",
       "1      0          PC 17599  71.2833   C85        C  \n",
       "2      0  STON/O2. 3101282   7.9250   NaN        S  \n",
       "3      0            113803  53.1000  C123        S  \n",
       "4      0            373450   8.0500   NaN        S  \n",
       "5      0            330877   8.4583   NaN        Q  \n",
       "6      0             17463  51.8625   E46        S  \n",
       "7      1            349909  21.0750   NaN        S  \n",
       "8      2            347742  11.1333   NaN        S  \n",
       "9      0            237736  30.0708   NaN        C  "
      ]
     },
     "execution_count": 5,
     "metadata": {},
     "output_type": "execute_result"
    }
   ],
   "source": [
    "train_df = pd.read_csv(\"/kaggle/input/titanic/train.csv\")\n",
    "serving_df = pd.read_csv(\"/kaggle/input/titanic/test.csv\")\n",
    "\n",
    "train_df.head(10)"
   ]
  },
  {
   "cell_type": "code",
   "execution_count": 6,
   "id": "528b8db8",
   "metadata": {
    "execution": {
     "iopub.execute_input": "2024-08-14T03:39:22.668289Z",
     "iopub.status.busy": "2024-08-14T03:39:22.667993Z",
     "iopub.status.idle": "2024-08-14T03:39:22.673377Z",
     "shell.execute_reply": "2024-08-14T03:39:22.672609Z"
    },
    "papermill": {
     "duration": 0.020826,
     "end_time": "2024-08-14T03:39:22.675253",
     "exception": false,
     "start_time": "2024-08-14T03:39:22.654427",
     "status": "completed"
    },
    "tags": []
   },
   "outputs": [
    {
     "data": {
      "text/plain": [
       "((891, 12), (418, 11))"
      ]
     },
     "execution_count": 6,
     "metadata": {},
     "output_type": "execute_result"
    }
   ],
   "source": [
    "#Number of observations and features. \n",
    "train_df.shape, serving_df.shape"
   ]
  },
  {
   "cell_type": "code",
   "execution_count": 7,
   "id": "dd4740b1",
   "metadata": {
    "execution": {
     "iopub.execute_input": "2024-08-14T03:39:22.701168Z",
     "iopub.status.busy": "2024-08-14T03:39:22.700874Z",
     "iopub.status.idle": "2024-08-14T03:39:22.714111Z",
     "shell.execute_reply": "2024-08-14T03:39:22.713305Z"
    },
    "papermill": {
     "duration": 0.028422,
     "end_time": "2024-08-14T03:39:22.716066",
     "exception": false,
     "start_time": "2024-08-14T03:39:22.687644",
     "status": "completed"
    },
    "tags": []
   },
   "outputs": [
    {
     "data": {
      "text/html": [
       "<div>\n",
       "<style scoped>\n",
       "    .dataframe tbody tr th:only-of-type {\n",
       "        vertical-align: middle;\n",
       "    }\n",
       "\n",
       "    .dataframe tbody tr th {\n",
       "        vertical-align: top;\n",
       "    }\n",
       "\n",
       "    .dataframe thead th {\n",
       "        text-align: right;\n",
       "    }\n",
       "</style>\n",
       "<table border=\"1\" class=\"dataframe\">\n",
       "  <thead>\n",
       "    <tr style=\"text-align: right;\">\n",
       "      <th></th>\n",
       "      <th>PassengerId</th>\n",
       "      <th>Survived</th>\n",
       "      <th>Pclass</th>\n",
       "      <th>Name</th>\n",
       "      <th>Sex</th>\n",
       "      <th>Age</th>\n",
       "      <th>SibSp</th>\n",
       "      <th>Parch</th>\n",
       "      <th>Ticket</th>\n",
       "      <th>Fare</th>\n",
       "      <th>Cabin</th>\n",
       "      <th>Embarked</th>\n",
       "    </tr>\n",
       "  </thead>\n",
       "  <tbody>\n",
       "    <tr>\n",
       "      <th>0</th>\n",
       "      <td>1</td>\n",
       "      <td>0</td>\n",
       "      <td>3</td>\n",
       "      <td>Braund, Mr. Owen Harris</td>\n",
       "      <td>male</td>\n",
       "      <td>22.0</td>\n",
       "      <td>1</td>\n",
       "      <td>0</td>\n",
       "      <td>A/5 21171</td>\n",
       "      <td>7.2500</td>\n",
       "      <td>NaN</td>\n",
       "      <td>S</td>\n",
       "    </tr>\n",
       "    <tr>\n",
       "      <th>1</th>\n",
       "      <td>2</td>\n",
       "      <td>1</td>\n",
       "      <td>1</td>\n",
       "      <td>Cumings, Mrs. John Bradley (Florence Briggs Th...</td>\n",
       "      <td>female</td>\n",
       "      <td>38.0</td>\n",
       "      <td>1</td>\n",
       "      <td>0</td>\n",
       "      <td>PC 17599</td>\n",
       "      <td>71.2833</td>\n",
       "      <td>C85</td>\n",
       "      <td>C</td>\n",
       "    </tr>\n",
       "    <tr>\n",
       "      <th>2</th>\n",
       "      <td>3</td>\n",
       "      <td>1</td>\n",
       "      <td>3</td>\n",
       "      <td>Heikkinen, Miss. Laina</td>\n",
       "      <td>female</td>\n",
       "      <td>26.0</td>\n",
       "      <td>0</td>\n",
       "      <td>0</td>\n",
       "      <td>STON/O2. 3101282</td>\n",
       "      <td>7.9250</td>\n",
       "      <td>NaN</td>\n",
       "      <td>S</td>\n",
       "    </tr>\n",
       "    <tr>\n",
       "      <th>3</th>\n",
       "      <td>4</td>\n",
       "      <td>1</td>\n",
       "      <td>1</td>\n",
       "      <td>Futrelle, Mrs. Jacques Heath (Lily May Peel)</td>\n",
       "      <td>female</td>\n",
       "      <td>35.0</td>\n",
       "      <td>1</td>\n",
       "      <td>0</td>\n",
       "      <td>113803</td>\n",
       "      <td>53.1000</td>\n",
       "      <td>C123</td>\n",
       "      <td>S</td>\n",
       "    </tr>\n",
       "    <tr>\n",
       "      <th>4</th>\n",
       "      <td>5</td>\n",
       "      <td>0</td>\n",
       "      <td>3</td>\n",
       "      <td>Allen, Mr. William Henry</td>\n",
       "      <td>male</td>\n",
       "      <td>35.0</td>\n",
       "      <td>0</td>\n",
       "      <td>0</td>\n",
       "      <td>373450</td>\n",
       "      <td>8.0500</td>\n",
       "      <td>NaN</td>\n",
       "      <td>S</td>\n",
       "    </tr>\n",
       "  </tbody>\n",
       "</table>\n",
       "</div>"
      ],
      "text/plain": [
       "   PassengerId  Survived  Pclass  \\\n",
       "0            1         0       3   \n",
       "1            2         1       1   \n",
       "2            3         1       3   \n",
       "3            4         1       1   \n",
       "4            5         0       3   \n",
       "\n",
       "                                                Name     Sex   Age  SibSp  \\\n",
       "0                            Braund, Mr. Owen Harris    male  22.0      1   \n",
       "1  Cumings, Mrs. John Bradley (Florence Briggs Th...  female  38.0      1   \n",
       "2                             Heikkinen, Miss. Laina  female  26.0      0   \n",
       "3       Futrelle, Mrs. Jacques Heath (Lily May Peel)  female  35.0      1   \n",
       "4                           Allen, Mr. William Henry    male  35.0      0   \n",
       "\n",
       "   Parch            Ticket     Fare Cabin Embarked  \n",
       "0      0         A/5 21171   7.2500   NaN        S  \n",
       "1      0          PC 17599  71.2833   C85        C  \n",
       "2      0  STON/O2. 3101282   7.9250   NaN        S  \n",
       "3      0            113803  53.1000  C123        S  \n",
       "4      0            373450   8.0500   NaN        S  "
      ]
     },
     "execution_count": 7,
     "metadata": {},
     "output_type": "execute_result"
    }
   ],
   "source": [
    "#The top 5 observations of the train df  \n",
    "train_df.head(5)"
   ]
  },
  {
   "cell_type": "code",
   "execution_count": 8,
   "id": "1e975eeb",
   "metadata": {
    "execution": {
     "iopub.execute_input": "2024-08-14T03:39:22.742371Z",
     "iopub.status.busy": "2024-08-14T03:39:22.742094Z",
     "iopub.status.idle": "2024-08-14T03:39:22.755263Z",
     "shell.execute_reply": "2024-08-14T03:39:22.754443Z"
    },
    "papermill": {
     "duration": 0.028483,
     "end_time": "2024-08-14T03:39:22.757204",
     "exception": false,
     "start_time": "2024-08-14T03:39:22.728721",
     "status": "completed"
    },
    "tags": []
   },
   "outputs": [
    {
     "data": {
      "text/html": [
       "<div>\n",
       "<style scoped>\n",
       "    .dataframe tbody tr th:only-of-type {\n",
       "        vertical-align: middle;\n",
       "    }\n",
       "\n",
       "    .dataframe tbody tr th {\n",
       "        vertical-align: top;\n",
       "    }\n",
       "\n",
       "    .dataframe thead th {\n",
       "        text-align: right;\n",
       "    }\n",
       "</style>\n",
       "<table border=\"1\" class=\"dataframe\">\n",
       "  <thead>\n",
       "    <tr style=\"text-align: right;\">\n",
       "      <th></th>\n",
       "      <th>PassengerId</th>\n",
       "      <th>Pclass</th>\n",
       "      <th>Name</th>\n",
       "      <th>Sex</th>\n",
       "      <th>Age</th>\n",
       "      <th>SibSp</th>\n",
       "      <th>Parch</th>\n",
       "      <th>Ticket</th>\n",
       "      <th>Fare</th>\n",
       "      <th>Cabin</th>\n",
       "      <th>Embarked</th>\n",
       "    </tr>\n",
       "  </thead>\n",
       "  <tbody>\n",
       "    <tr>\n",
       "      <th>0</th>\n",
       "      <td>892</td>\n",
       "      <td>3</td>\n",
       "      <td>Kelly, Mr. James</td>\n",
       "      <td>male</td>\n",
       "      <td>34.5</td>\n",
       "      <td>0</td>\n",
       "      <td>0</td>\n",
       "      <td>330911</td>\n",
       "      <td>7.8292</td>\n",
       "      <td>NaN</td>\n",
       "      <td>Q</td>\n",
       "    </tr>\n",
       "    <tr>\n",
       "      <th>1</th>\n",
       "      <td>893</td>\n",
       "      <td>3</td>\n",
       "      <td>Wilkes, Mrs. James (Ellen Needs)</td>\n",
       "      <td>female</td>\n",
       "      <td>47.0</td>\n",
       "      <td>1</td>\n",
       "      <td>0</td>\n",
       "      <td>363272</td>\n",
       "      <td>7.0000</td>\n",
       "      <td>NaN</td>\n",
       "      <td>S</td>\n",
       "    </tr>\n",
       "    <tr>\n",
       "      <th>2</th>\n",
       "      <td>894</td>\n",
       "      <td>2</td>\n",
       "      <td>Myles, Mr. Thomas Francis</td>\n",
       "      <td>male</td>\n",
       "      <td>62.0</td>\n",
       "      <td>0</td>\n",
       "      <td>0</td>\n",
       "      <td>240276</td>\n",
       "      <td>9.6875</td>\n",
       "      <td>NaN</td>\n",
       "      <td>Q</td>\n",
       "    </tr>\n",
       "    <tr>\n",
       "      <th>3</th>\n",
       "      <td>895</td>\n",
       "      <td>3</td>\n",
       "      <td>Wirz, Mr. Albert</td>\n",
       "      <td>male</td>\n",
       "      <td>27.0</td>\n",
       "      <td>0</td>\n",
       "      <td>0</td>\n",
       "      <td>315154</td>\n",
       "      <td>8.6625</td>\n",
       "      <td>NaN</td>\n",
       "      <td>S</td>\n",
       "    </tr>\n",
       "    <tr>\n",
       "      <th>4</th>\n",
       "      <td>896</td>\n",
       "      <td>3</td>\n",
       "      <td>Hirvonen, Mrs. Alexander (Helga E Lindqvist)</td>\n",
       "      <td>female</td>\n",
       "      <td>22.0</td>\n",
       "      <td>1</td>\n",
       "      <td>1</td>\n",
       "      <td>3101298</td>\n",
       "      <td>12.2875</td>\n",
       "      <td>NaN</td>\n",
       "      <td>S</td>\n",
       "    </tr>\n",
       "  </tbody>\n",
       "</table>\n",
       "</div>"
      ],
      "text/plain": [
       "   PassengerId  Pclass                                          Name     Sex  \\\n",
       "0          892       3                              Kelly, Mr. James    male   \n",
       "1          893       3              Wilkes, Mrs. James (Ellen Needs)  female   \n",
       "2          894       2                     Myles, Mr. Thomas Francis    male   \n",
       "3          895       3                              Wirz, Mr. Albert    male   \n",
       "4          896       3  Hirvonen, Mrs. Alexander (Helga E Lindqvist)  female   \n",
       "\n",
       "    Age  SibSp  Parch   Ticket     Fare Cabin Embarked  \n",
       "0  34.5      0      0   330911   7.8292   NaN        Q  \n",
       "1  47.0      1      0   363272   7.0000   NaN        S  \n",
       "2  62.0      0      0   240276   9.6875   NaN        Q  \n",
       "3  27.0      0      0   315154   8.6625   NaN        S  \n",
       "4  22.0      1      1  3101298  12.2875   NaN        S  "
      ]
     },
     "execution_count": 8,
     "metadata": {},
     "output_type": "execute_result"
    }
   ],
   "source": [
    "#The top 5 observations of the test df  \n",
    "serving_df.head(5)"
   ]
  },
  {
   "cell_type": "code",
   "execution_count": 9,
   "id": "a48b08d9",
   "metadata": {
    "execution": {
     "iopub.execute_input": "2024-08-14T03:39:22.784734Z",
     "iopub.status.busy": "2024-08-14T03:39:22.784469Z",
     "iopub.status.idle": "2024-08-14T03:39:22.804969Z",
     "shell.execute_reply": "2024-08-14T03:39:22.804066Z"
    },
    "papermill": {
     "duration": 0.036025,
     "end_time": "2024-08-14T03:39:22.806786",
     "exception": false,
     "start_time": "2024-08-14T03:39:22.770761",
     "status": "completed"
    },
    "tags": []
   },
   "outputs": [
    {
     "data": {
      "text/html": [
       "<div>\n",
       "<style scoped>\n",
       "    .dataframe tbody tr th:only-of-type {\n",
       "        vertical-align: middle;\n",
       "    }\n",
       "\n",
       "    .dataframe tbody tr th {\n",
       "        vertical-align: top;\n",
       "    }\n",
       "\n",
       "    .dataframe thead th {\n",
       "        text-align: right;\n",
       "    }\n",
       "</style>\n",
       "<table border=\"1\" class=\"dataframe\">\n",
       "  <thead>\n",
       "    <tr style=\"text-align: right;\">\n",
       "      <th></th>\n",
       "      <th>PassengerId</th>\n",
       "      <th>Survived</th>\n",
       "      <th>Pclass</th>\n",
       "      <th>Name</th>\n",
       "      <th>Sex</th>\n",
       "      <th>Age</th>\n",
       "      <th>SibSp</th>\n",
       "      <th>Parch</th>\n",
       "      <th>Ticket</th>\n",
       "      <th>Fare</th>\n",
       "      <th>Cabin</th>\n",
       "      <th>Embarked</th>\n",
       "    </tr>\n",
       "  </thead>\n",
       "  <tbody>\n",
       "    <tr>\n",
       "      <th>0</th>\n",
       "      <td>False</td>\n",
       "      <td>False</td>\n",
       "      <td>False</td>\n",
       "      <td>False</td>\n",
       "      <td>False</td>\n",
       "      <td>False</td>\n",
       "      <td>False</td>\n",
       "      <td>False</td>\n",
       "      <td>False</td>\n",
       "      <td>False</td>\n",
       "      <td>True</td>\n",
       "      <td>False</td>\n",
       "    </tr>\n",
       "    <tr>\n",
       "      <th>1</th>\n",
       "      <td>False</td>\n",
       "      <td>False</td>\n",
       "      <td>False</td>\n",
       "      <td>False</td>\n",
       "      <td>False</td>\n",
       "      <td>False</td>\n",
       "      <td>False</td>\n",
       "      <td>False</td>\n",
       "      <td>False</td>\n",
       "      <td>False</td>\n",
       "      <td>False</td>\n",
       "      <td>False</td>\n",
       "    </tr>\n",
       "    <tr>\n",
       "      <th>2</th>\n",
       "      <td>False</td>\n",
       "      <td>False</td>\n",
       "      <td>False</td>\n",
       "      <td>False</td>\n",
       "      <td>False</td>\n",
       "      <td>False</td>\n",
       "      <td>False</td>\n",
       "      <td>False</td>\n",
       "      <td>False</td>\n",
       "      <td>False</td>\n",
       "      <td>True</td>\n",
       "      <td>False</td>\n",
       "    </tr>\n",
       "    <tr>\n",
       "      <th>3</th>\n",
       "      <td>False</td>\n",
       "      <td>False</td>\n",
       "      <td>False</td>\n",
       "      <td>False</td>\n",
       "      <td>False</td>\n",
       "      <td>False</td>\n",
       "      <td>False</td>\n",
       "      <td>False</td>\n",
       "      <td>False</td>\n",
       "      <td>False</td>\n",
       "      <td>False</td>\n",
       "      <td>False</td>\n",
       "    </tr>\n",
       "    <tr>\n",
       "      <th>4</th>\n",
       "      <td>False</td>\n",
       "      <td>False</td>\n",
       "      <td>False</td>\n",
       "      <td>False</td>\n",
       "      <td>False</td>\n",
       "      <td>False</td>\n",
       "      <td>False</td>\n",
       "      <td>False</td>\n",
       "      <td>False</td>\n",
       "      <td>False</td>\n",
       "      <td>True</td>\n",
       "      <td>False</td>\n",
       "    </tr>\n",
       "    <tr>\n",
       "      <th>...</th>\n",
       "      <td>...</td>\n",
       "      <td>...</td>\n",
       "      <td>...</td>\n",
       "      <td>...</td>\n",
       "      <td>...</td>\n",
       "      <td>...</td>\n",
       "      <td>...</td>\n",
       "      <td>...</td>\n",
       "      <td>...</td>\n",
       "      <td>...</td>\n",
       "      <td>...</td>\n",
       "      <td>...</td>\n",
       "    </tr>\n",
       "    <tr>\n",
       "      <th>886</th>\n",
       "      <td>False</td>\n",
       "      <td>False</td>\n",
       "      <td>False</td>\n",
       "      <td>False</td>\n",
       "      <td>False</td>\n",
       "      <td>False</td>\n",
       "      <td>False</td>\n",
       "      <td>False</td>\n",
       "      <td>False</td>\n",
       "      <td>False</td>\n",
       "      <td>True</td>\n",
       "      <td>False</td>\n",
       "    </tr>\n",
       "    <tr>\n",
       "      <th>887</th>\n",
       "      <td>False</td>\n",
       "      <td>False</td>\n",
       "      <td>False</td>\n",
       "      <td>False</td>\n",
       "      <td>False</td>\n",
       "      <td>False</td>\n",
       "      <td>False</td>\n",
       "      <td>False</td>\n",
       "      <td>False</td>\n",
       "      <td>False</td>\n",
       "      <td>False</td>\n",
       "      <td>False</td>\n",
       "    </tr>\n",
       "    <tr>\n",
       "      <th>888</th>\n",
       "      <td>False</td>\n",
       "      <td>False</td>\n",
       "      <td>False</td>\n",
       "      <td>False</td>\n",
       "      <td>False</td>\n",
       "      <td>True</td>\n",
       "      <td>False</td>\n",
       "      <td>False</td>\n",
       "      <td>False</td>\n",
       "      <td>False</td>\n",
       "      <td>True</td>\n",
       "      <td>False</td>\n",
       "    </tr>\n",
       "    <tr>\n",
       "      <th>889</th>\n",
       "      <td>False</td>\n",
       "      <td>False</td>\n",
       "      <td>False</td>\n",
       "      <td>False</td>\n",
       "      <td>False</td>\n",
       "      <td>False</td>\n",
       "      <td>False</td>\n",
       "      <td>False</td>\n",
       "      <td>False</td>\n",
       "      <td>False</td>\n",
       "      <td>False</td>\n",
       "      <td>False</td>\n",
       "    </tr>\n",
       "    <tr>\n",
       "      <th>890</th>\n",
       "      <td>False</td>\n",
       "      <td>False</td>\n",
       "      <td>False</td>\n",
       "      <td>False</td>\n",
       "      <td>False</td>\n",
       "      <td>False</td>\n",
       "      <td>False</td>\n",
       "      <td>False</td>\n",
       "      <td>False</td>\n",
       "      <td>False</td>\n",
       "      <td>True</td>\n",
       "      <td>False</td>\n",
       "    </tr>\n",
       "  </tbody>\n",
       "</table>\n",
       "<p>891 rows × 12 columns</p>\n",
       "</div>"
      ],
      "text/plain": [
       "     PassengerId  Survived  Pclass   Name    Sex    Age  SibSp  Parch  Ticket  \\\n",
       "0          False     False   False  False  False  False  False  False   False   \n",
       "1          False     False   False  False  False  False  False  False   False   \n",
       "2          False     False   False  False  False  False  False  False   False   \n",
       "3          False     False   False  False  False  False  False  False   False   \n",
       "4          False     False   False  False  False  False  False  False   False   \n",
       "..           ...       ...     ...    ...    ...    ...    ...    ...     ...   \n",
       "886        False     False   False  False  False  False  False  False   False   \n",
       "887        False     False   False  False  False  False  False  False   False   \n",
       "888        False     False   False  False  False   True  False  False   False   \n",
       "889        False     False   False  False  False  False  False  False   False   \n",
       "890        False     False   False  False  False  False  False  False   False   \n",
       "\n",
       "      Fare  Cabin  Embarked  \n",
       "0    False   True     False  \n",
       "1    False  False     False  \n",
       "2    False   True     False  \n",
       "3    False  False     False  \n",
       "4    False   True     False  \n",
       "..     ...    ...       ...  \n",
       "886  False   True     False  \n",
       "887  False  False     False  \n",
       "888  False   True     False  \n",
       "889  False  False     False  \n",
       "890  False   True     False  \n",
       "\n",
       "[891 rows x 12 columns]"
      ]
     },
     "execution_count": 9,
     "metadata": {},
     "output_type": "execute_result"
    }
   ],
   "source": [
    "train_df.isnull()"
   ]
  },
  {
   "cell_type": "code",
   "execution_count": 10,
   "id": "9f018f07",
   "metadata": {
    "execution": {
     "iopub.execute_input": "2024-08-14T03:39:22.836437Z",
     "iopub.status.busy": "2024-08-14T03:39:22.836168Z",
     "iopub.status.idle": "2024-08-14T03:39:22.843277Z",
     "shell.execute_reply": "2024-08-14T03:39:22.842444Z"
    },
    "papermill": {
     "duration": 0.024359,
     "end_time": "2024-08-14T03:39:22.845385",
     "exception": false,
     "start_time": "2024-08-14T03:39:22.821026",
     "status": "completed"
    },
    "tags": []
   },
   "outputs": [
    {
     "name": "stdout",
     "output_type": "stream",
     "text": [
      "Women survived: 74.2 %\n"
     ]
    }
   ],
   "source": [
    "#The sample submission file in gender_submission.csv assumes that all female passengers survived (and all male passengers died). \n",
    "#We are going to check if this pattern holds true in the data (in train.csv)\n",
    "\n",
    "women = train_df.loc[train_df.Sex == 'female'][\"Survived\"]\n",
    "rate_women = sum(women)/len(women)\n",
    "\n",
    "print(f\"Women survived: {round(rate_women*100,2)} %\")"
   ]
  },
  {
   "cell_type": "code",
   "execution_count": 11,
   "id": "0166e98c",
   "metadata": {
    "execution": {
     "iopub.execute_input": "2024-08-14T03:39:22.872977Z",
     "iopub.status.busy": "2024-08-14T03:39:22.872693Z",
     "iopub.status.idle": "2024-08-14T03:39:22.879271Z",
     "shell.execute_reply": "2024-08-14T03:39:22.878298Z"
    },
    "papermill": {
     "duration": 0.022505,
     "end_time": "2024-08-14T03:39:22.881162",
     "exception": false,
     "start_time": "2024-08-14T03:39:22.858657",
     "status": "completed"
    },
    "tags": []
   },
   "outputs": [
    {
     "name": "stdout",
     "output_type": "stream",
     "text": [
      "Men survived: 18.89 %\n"
     ]
    }
   ],
   "source": [
    "men = train_df.loc[train_df.Sex == \"male\"][\"Survived\"]\n",
    "rate_men = sum(men)/len(men)\n",
    "\n",
    "print(f\"Men survived: {round(rate_men*100,2)} %\")"
   ]
  },
  {
   "cell_type": "code",
   "execution_count": 12,
   "id": "5bd8ac3c",
   "metadata": {
    "execution": {
     "iopub.execute_input": "2024-08-14T03:39:22.909656Z",
     "iopub.status.busy": "2024-08-14T03:39:22.909351Z",
     "iopub.status.idle": "2024-08-14T03:39:23.762258Z",
     "shell.execute_reply": "2024-08-14T03:39:23.761260Z"
    },
    "papermill": {
     "duration": 0.869863,
     "end_time": "2024-08-14T03:39:23.764600",
     "exception": false,
     "start_time": "2024-08-14T03:39:22.894737",
     "status": "completed"
    },
    "tags": []
   },
   "outputs": [],
   "source": [
    "from sklearn.preprocessing import LabelEncoder\n",
    "columns_to_be_encoded = ['Sex','Ticket','Cabin','Embarked']\n",
    "encoders = {column: LabelEncoder() for column in columns_to_be_encoded}\n",
    "\n",
    "for column in columns_to_be_encoded:\n",
    "    train_df[column] = encoders[column].fit_transform(train_df[column])"
   ]
  },
  {
   "cell_type": "code",
   "execution_count": 13,
   "id": "5234ba46",
   "metadata": {
    "execution": {
     "iopub.execute_input": "2024-08-14T03:39:23.793273Z",
     "iopub.status.busy": "2024-08-14T03:39:23.792959Z",
     "iopub.status.idle": "2024-08-14T03:39:23.805560Z",
     "shell.execute_reply": "2024-08-14T03:39:23.804884Z"
    },
    "papermill": {
     "duration": 0.029111,
     "end_time": "2024-08-14T03:39:23.807564",
     "exception": false,
     "start_time": "2024-08-14T03:39:23.778453",
     "status": "completed"
    },
    "tags": []
   },
   "outputs": [],
   "source": [
    "from sklearn.preprocessing import MinMaxScaler\n",
    "scaler = MinMaxScaler()\n",
    "train_df[['Pclass','Sex','Age','SibSp','Parch','Ticket','Fare','Cabin','Embarked']] = scaler.fit_transform(train_df[['Pclass','Sex','Age','SibSp','Parch','Ticket','Fare','Cabin','Embarked']])"
   ]
  },
  {
   "cell_type": "code",
   "execution_count": 14,
   "id": "34e54afd",
   "metadata": {
    "execution": {
     "iopub.execute_input": "2024-08-14T03:39:23.837548Z",
     "iopub.status.busy": "2024-08-14T03:39:23.837260Z",
     "iopub.status.idle": "2024-08-14T03:39:23.844763Z",
     "shell.execute_reply": "2024-08-14T03:39:23.844042Z"
    },
    "papermill": {
     "duration": 0.025078,
     "end_time": "2024-08-14T03:39:23.846609",
     "exception": false,
     "start_time": "2024-08-14T03:39:23.821531",
     "status": "completed"
    },
    "tags": []
   },
   "outputs": [],
   "source": [
    "train_df.dropna(subset=['Age'], inplace=True)"
   ]
  },
  {
   "cell_type": "code",
   "execution_count": 15,
   "id": "d3672a20",
   "metadata": {
    "execution": {
     "iopub.execute_input": "2024-08-14T03:39:23.874812Z",
     "iopub.status.busy": "2024-08-14T03:39:23.874559Z",
     "iopub.status.idle": "2024-08-14T03:39:23.878989Z",
     "shell.execute_reply": "2024-08-14T03:39:23.878159Z"
    },
    "papermill": {
     "duration": 0.020522,
     "end_time": "2024-08-14T03:39:23.880878",
     "exception": false,
     "start_time": "2024-08-14T03:39:23.860356",
     "status": "completed"
    },
    "tags": []
   },
   "outputs": [],
   "source": [
    "train_df.fillna(0, inplace=True)"
   ]
  },
  {
   "cell_type": "code",
   "execution_count": 16,
   "id": "5b42e37b",
   "metadata": {
    "execution": {
     "iopub.execute_input": "2024-08-14T03:39:23.908931Z",
     "iopub.status.busy": "2024-08-14T03:39:23.908648Z",
     "iopub.status.idle": "2024-08-14T03:39:23.914101Z",
     "shell.execute_reply": "2024-08-14T03:39:23.913170Z"
    },
    "papermill": {
     "duration": 0.021888,
     "end_time": "2024-08-14T03:39:23.916117",
     "exception": false,
     "start_time": "2024-08-14T03:39:23.894229",
     "status": "completed"
    },
    "tags": []
   },
   "outputs": [],
   "source": [
    "#Creating the variable y and X. y is the target and the X contain only the features without the target. \n",
    "y = train_df[\"Survived\"]\n",
    "#features = train_df.drop(['Survived','Cabin'], axis=1) #axis=1 because we want to delete a column.\n",
    "features = ['Pclass','Sex','Age','SibSp','Parch','Ticket','Fare','Cabin','Embarked']\n",
    "X = train_df[features]\n",
    "#X_test = pd.get_dummies(test_df[features])"
   ]
  },
  {
   "cell_type": "code",
   "execution_count": 17,
   "id": "48568566",
   "metadata": {
    "execution": {
     "iopub.execute_input": "2024-08-14T03:39:23.944968Z",
     "iopub.status.busy": "2024-08-14T03:39:23.944660Z",
     "iopub.status.idle": "2024-08-14T03:39:24.032485Z",
     "shell.execute_reply": "2024-08-14T03:39:24.031709Z"
    },
    "papermill": {
     "duration": 0.105096,
     "end_time": "2024-08-14T03:39:24.034704",
     "exception": false,
     "start_time": "2024-08-14T03:39:23.929608",
     "status": "completed"
    },
    "tags": []
   },
   "outputs": [],
   "source": [
    "from sklearn.model_selection import train_test_split \n",
    "X_train, X_test, y_train, y_test = train_test_split(X,y , \n",
    "                                   random_state=104,  \n",
    "                                   test_size=0.25,  \n",
    "                                   shuffle=True)"
   ]
  },
  {
   "cell_type": "code",
   "execution_count": 18,
   "id": "db34a425",
   "metadata": {
    "execution": {
     "iopub.execute_input": "2024-08-14T03:39:24.063321Z",
     "iopub.status.busy": "2024-08-14T03:39:24.063048Z",
     "iopub.status.idle": "2024-08-14T03:39:24.264539Z",
     "shell.execute_reply": "2024-08-14T03:39:24.263666Z"
    },
    "papermill": {
     "duration": 0.218211,
     "end_time": "2024-08-14T03:39:24.266888",
     "exception": false,
     "start_time": "2024-08-14T03:39:24.048677",
     "status": "completed"
    },
    "tags": []
   },
   "outputs": [],
   "source": [
    "from sklearn.model_selection import train_test_split \n",
    "from sklearn.linear_model import LogisticRegression\n",
    "from sklearn.neighbors import KNeighborsClassifier\n",
    "from sklearn.svm import SVC\n",
    "from sklearn.tree import DecisionTreeClassifier\n",
    "from sklearn.ensemble import RandomForestClassifier\n",
    "from sklearn.naive_bayes import GaussianNB"
   ]
  },
  {
   "cell_type": "code",
   "execution_count": 19,
   "id": "0e41f987",
   "metadata": {
    "execution": {
     "iopub.execute_input": "2024-08-14T03:39:24.297141Z",
     "iopub.status.busy": "2024-08-14T03:39:24.296742Z",
     "iopub.status.idle": "2024-08-14T03:39:24.303247Z",
     "shell.execute_reply": "2024-08-14T03:39:24.302164Z"
    },
    "papermill": {
     "duration": 0.025015,
     "end_time": "2024-08-14T03:39:24.305771",
     "exception": false,
     "start_time": "2024-08-14T03:39:24.280756",
     "status": "completed"
    },
    "tags": []
   },
   "outputs": [
    {
     "data": {
      "text/plain": [
       "535"
      ]
     },
     "execution_count": 19,
     "metadata": {},
     "output_type": "execute_result"
    }
   ],
   "source": [
    "len(X_train)"
   ]
  },
  {
   "cell_type": "code",
   "execution_count": 20,
   "id": "fd1c96cb",
   "metadata": {
    "execution": {
     "iopub.execute_input": "2024-08-14T03:39:24.336242Z",
     "iopub.status.busy": "2024-08-14T03:39:24.335934Z",
     "iopub.status.idle": "2024-08-14T03:39:24.344570Z",
     "shell.execute_reply": "2024-08-14T03:39:24.343617Z"
    },
    "papermill": {
     "duration": 0.026216,
     "end_time": "2024-08-14T03:39:24.346984",
     "exception": false,
     "start_time": "2024-08-14T03:39:24.320768",
     "status": "completed"
    },
    "tags": []
   },
   "outputs": [
    {
     "data": {
      "text/plain": [
       "Pclass      0\n",
       "Sex         0\n",
       "Age         0\n",
       "SibSp       0\n",
       "Parch       0\n",
       "Ticket      0\n",
       "Fare        0\n",
       "Cabin       0\n",
       "Embarked    0\n",
       "dtype: int64"
      ]
     },
     "execution_count": 20,
     "metadata": {},
     "output_type": "execute_result"
    }
   ],
   "source": [
    "X_train.isnull().sum()"
   ]
  },
  {
   "cell_type": "code",
   "execution_count": 21,
   "id": "92d70ac2",
   "metadata": {
    "execution": {
     "iopub.execute_input": "2024-08-14T03:39:24.378804Z",
     "iopub.status.busy": "2024-08-14T03:39:24.378503Z",
     "iopub.status.idle": "2024-08-14T03:39:24.385981Z",
     "shell.execute_reply": "2024-08-14T03:39:24.385103Z"
    },
    "papermill": {
     "duration": 0.026062,
     "end_time": "2024-08-14T03:39:24.388140",
     "exception": false,
     "start_time": "2024-08-14T03:39:24.362078",
     "status": "completed"
    },
    "tags": []
   },
   "outputs": [],
   "source": [
    "X_train.dropna(subset=['Age'], inplace=True)"
   ]
  },
  {
   "cell_type": "code",
   "execution_count": 22,
   "id": "26e4c165",
   "metadata": {
    "execution": {
     "iopub.execute_input": "2024-08-14T03:39:24.421635Z",
     "iopub.status.busy": "2024-08-14T03:39:24.421328Z",
     "iopub.status.idle": "2024-08-14T03:39:24.440037Z",
     "shell.execute_reply": "2024-08-14T03:39:24.439179Z"
    },
    "papermill": {
     "duration": 0.037684,
     "end_time": "2024-08-14T03:39:24.441993",
     "exception": false,
     "start_time": "2024-08-14T03:39:24.404309",
     "status": "completed"
    },
    "tags": []
   },
   "outputs": [
    {
     "data": {
      "text/html": [
       "<div>\n",
       "<style scoped>\n",
       "    .dataframe tbody tr th:only-of-type {\n",
       "        vertical-align: middle;\n",
       "    }\n",
       "\n",
       "    .dataframe tbody tr th {\n",
       "        vertical-align: top;\n",
       "    }\n",
       "\n",
       "    .dataframe thead th {\n",
       "        text-align: right;\n",
       "    }\n",
       "</style>\n",
       "<table border=\"1\" class=\"dataframe\">\n",
       "  <thead>\n",
       "    <tr style=\"text-align: right;\">\n",
       "      <th></th>\n",
       "      <th>Pclass</th>\n",
       "      <th>Sex</th>\n",
       "      <th>Age</th>\n",
       "      <th>SibSp</th>\n",
       "      <th>Parch</th>\n",
       "      <th>Ticket</th>\n",
       "      <th>Fare</th>\n",
       "      <th>Cabin</th>\n",
       "      <th>Embarked</th>\n",
       "    </tr>\n",
       "  </thead>\n",
       "  <tbody>\n",
       "    <tr>\n",
       "      <th>634</th>\n",
       "      <td>1.0</td>\n",
       "      <td>0.0</td>\n",
       "      <td>0.107816</td>\n",
       "      <td>0.375</td>\n",
       "      <td>0.333333</td>\n",
       "      <td>0.495588</td>\n",
       "      <td>0.054457</td>\n",
       "      <td>1.000000</td>\n",
       "      <td>0.666667</td>\n",
       "    </tr>\n",
       "    <tr>\n",
       "      <th>75</th>\n",
       "      <td>1.0</td>\n",
       "      <td>1.0</td>\n",
       "      <td>0.308872</td>\n",
       "      <td>0.000</td>\n",
       "      <td>0.000000</td>\n",
       "      <td>0.510294</td>\n",
       "      <td>0.014932</td>\n",
       "      <td>0.952381</td>\n",
       "      <td>0.666667</td>\n",
       "    </tr>\n",
       "    <tr>\n",
       "      <th>874</th>\n",
       "      <td>0.5</td>\n",
       "      <td>0.0</td>\n",
       "      <td>0.346569</td>\n",
       "      <td>0.125</td>\n",
       "      <td>0.000000</td>\n",
       "      <td>0.845588</td>\n",
       "      <td>0.046845</td>\n",
       "      <td>1.000000</td>\n",
       "      <td>0.000000</td>\n",
       "    </tr>\n",
       "    <tr>\n",
       "      <th>843</th>\n",
       "      <td>1.0</td>\n",
       "      <td>1.0</td>\n",
       "      <td>0.428248</td>\n",
       "      <td>0.000</td>\n",
       "      <td>0.000000</td>\n",
       "      <td>0.301471</td>\n",
       "      <td>0.012565</td>\n",
       "      <td>1.000000</td>\n",
       "      <td>0.000000</td>\n",
       "    </tr>\n",
       "    <tr>\n",
       "      <th>474</th>\n",
       "      <td>1.0</td>\n",
       "      <td>0.0</td>\n",
       "      <td>0.271174</td>\n",
       "      <td>0.000</td>\n",
       "      <td>0.000000</td>\n",
       "      <td>0.748529</td>\n",
       "      <td>0.019202</td>\n",
       "      <td>1.000000</td>\n",
       "      <td>0.666667</td>\n",
       "    </tr>\n",
       "    <tr>\n",
       "      <th>...</th>\n",
       "      <td>...</td>\n",
       "      <td>...</td>\n",
       "      <td>...</td>\n",
       "      <td>...</td>\n",
       "      <td>...</td>\n",
       "      <td>...</td>\n",
       "      <td>...</td>\n",
       "      <td>...</td>\n",
       "      <td>...</td>\n",
       "    </tr>\n",
       "    <tr>\n",
       "      <th>208</th>\n",
       "      <td>1.0</td>\n",
       "      <td>0.0</td>\n",
       "      <td>0.195778</td>\n",
       "      <td>0.000</td>\n",
       "      <td>0.000000</td>\n",
       "      <td>0.654412</td>\n",
       "      <td>0.015127</td>\n",
       "      <td>1.000000</td>\n",
       "      <td>0.333333</td>\n",
       "    </tr>\n",
       "    <tr>\n",
       "      <th>818</th>\n",
       "      <td>1.0</td>\n",
       "      <td>1.0</td>\n",
       "      <td>0.535059</td>\n",
       "      <td>0.000</td>\n",
       "      <td>0.000000</td>\n",
       "      <td>0.798529</td>\n",
       "      <td>0.012590</td>\n",
       "      <td>1.000000</td>\n",
       "      <td>0.666667</td>\n",
       "    </tr>\n",
       "    <tr>\n",
       "      <th>314</th>\n",
       "      <td>0.5</td>\n",
       "      <td>1.0</td>\n",
       "      <td>0.535059</td>\n",
       "      <td>0.125</td>\n",
       "      <td>0.166667</td>\n",
       "      <td>0.839706</td>\n",
       "      <td>0.051237</td>\n",
       "      <td>1.000000</td>\n",
       "      <td>0.666667</td>\n",
       "    </tr>\n",
       "    <tr>\n",
       "      <th>881</th>\n",
       "      <td>1.0</td>\n",
       "      <td>1.0</td>\n",
       "      <td>0.409399</td>\n",
       "      <td>0.000</td>\n",
       "      <td>0.000000</td>\n",
       "      <td>0.579412</td>\n",
       "      <td>0.015412</td>\n",
       "      <td>1.000000</td>\n",
       "      <td>0.666667</td>\n",
       "    </tr>\n",
       "    <tr>\n",
       "      <th>90</th>\n",
       "      <td>1.0</td>\n",
       "      <td>1.0</td>\n",
       "      <td>0.359135</td>\n",
       "      <td>0.000</td>\n",
       "      <td>0.000000</td>\n",
       "      <td>0.438235</td>\n",
       "      <td>0.015713</td>\n",
       "      <td>1.000000</td>\n",
       "      <td>0.666667</td>\n",
       "    </tr>\n",
       "  </tbody>\n",
       "</table>\n",
       "<p>535 rows × 9 columns</p>\n",
       "</div>"
      ],
      "text/plain": [
       "     Pclass  Sex       Age  SibSp     Parch    Ticket      Fare     Cabin  \\\n",
       "634     1.0  0.0  0.107816  0.375  0.333333  0.495588  0.054457  1.000000   \n",
       "75      1.0  1.0  0.308872  0.000  0.000000  0.510294  0.014932  0.952381   \n",
       "874     0.5  0.0  0.346569  0.125  0.000000  0.845588  0.046845  1.000000   \n",
       "843     1.0  1.0  0.428248  0.000  0.000000  0.301471  0.012565  1.000000   \n",
       "474     1.0  0.0  0.271174  0.000  0.000000  0.748529  0.019202  1.000000   \n",
       "..      ...  ...       ...    ...       ...       ...       ...       ...   \n",
       "208     1.0  0.0  0.195778  0.000  0.000000  0.654412  0.015127  1.000000   \n",
       "818     1.0  1.0  0.535059  0.000  0.000000  0.798529  0.012590  1.000000   \n",
       "314     0.5  1.0  0.535059  0.125  0.166667  0.839706  0.051237  1.000000   \n",
       "881     1.0  1.0  0.409399  0.000  0.000000  0.579412  0.015412  1.000000   \n",
       "90      1.0  1.0  0.359135  0.000  0.000000  0.438235  0.015713  1.000000   \n",
       "\n",
       "     Embarked  \n",
       "634  0.666667  \n",
       "75   0.666667  \n",
       "874  0.000000  \n",
       "843  0.000000  \n",
       "474  0.666667  \n",
       "..        ...  \n",
       "208  0.333333  \n",
       "818  0.666667  \n",
       "314  0.666667  \n",
       "881  0.666667  \n",
       "90   0.666667  \n",
       "\n",
       "[535 rows x 9 columns]"
      ]
     },
     "execution_count": 22,
     "metadata": {},
     "output_type": "execute_result"
    }
   ],
   "source": [
    "X_train"
   ]
  },
  {
   "cell_type": "code",
   "execution_count": 23,
   "id": "f3aa2642",
   "metadata": {
    "execution": {
     "iopub.execute_input": "2024-08-14T03:39:24.471744Z",
     "iopub.status.busy": "2024-08-14T03:39:24.471262Z",
     "iopub.status.idle": "2024-08-14T03:39:25.820411Z",
     "shell.execute_reply": "2024-08-14T03:39:25.819224Z"
    },
    "papermill": {
     "duration": 1.369245,
     "end_time": "2024-08-14T03:39:25.825670",
     "exception": false,
     "start_time": "2024-08-14T03:39:24.456425",
     "status": "completed"
    },
    "tags": []
   },
   "outputs": [
    {
     "name": "stdout",
     "output_type": "stream",
     "text": [
      "LogisticRegression()\n",
      "KNeighborsClassifier()\n",
      "SVC()\n",
      "DecisionTreeClassifier()\n",
      "RandomForestClassifier()\n",
      "AdaBoostClassifier()\n",
      "GradientBoostingClassifier()\n",
      "GaussianNB()\n",
      "MLPClassifier()\n"
     ]
    },
    {
     "name": "stderr",
     "output_type": "stream",
     "text": [
      "/opt/conda/lib/python3.10/site-packages/sklearn/neural_network/_multilayer_perceptron.py:686: ConvergenceWarning: Stochastic Optimizer: Maximum iterations (200) reached and the optimization hasn't converged yet.\n",
      "  warnings.warn(\n"
     ]
    }
   ],
   "source": [
    "from sklearn.linear_model import LogisticRegression\n",
    "from sklearn.neighbors import KNeighborsClassifier\n",
    "from sklearn.svm import SVC\n",
    "from sklearn.tree import DecisionTreeClassifier\n",
    "from sklearn.ensemble import RandomForestClassifier, AdaBoostClassifier, GradientBoostingClassifier\n",
    "from sklearn.naive_bayes import GaussianNB\n",
    "from sklearn.neural_network import MLPClassifier\n",
    "\n",
    "models = [\n",
    "    [LogisticRegression(), 'LogisticRegression'],\n",
    "    [KNeighborsClassifier(), 'KNeighborsClassifier'],\n",
    "    [SVC(), 'SVC'],\n",
    "    [DecisionTreeClassifier(), 'DecisionTreeClassifier'],\n",
    "    [RandomForestClassifier(), 'RandomForestClassifier'],\n",
    "    [AdaBoostClassifier(), 'AdaBoostClassifier'],  # New model\n",
    "    [GradientBoostingClassifier(), 'GradientBoostingClassifier'],  # New model\n",
    "    [GaussianNB(), 'GaussianNB'],\n",
    "    [MLPClassifier(), 'MLPClassifier']\n",
    "]\n",
    "\n",
    "for model in models:\n",
    "    print(model[0].fit(X_train, y_train))\n",
    "    model.insert(2, model[0].score(X_test, y_test))\n",
    "    "
   ]
  },
  {
   "cell_type": "code",
   "execution_count": 24,
   "id": "d1da3e20",
   "metadata": {
    "execution": {
     "iopub.execute_input": "2024-08-14T03:39:25.904354Z",
     "iopub.status.busy": "2024-08-14T03:39:25.902961Z",
     "iopub.status.idle": "2024-08-14T03:39:25.909569Z",
     "shell.execute_reply": "2024-08-14T03:39:25.908310Z"
    },
    "papermill": {
     "duration": 0.042951,
     "end_time": "2024-08-14T03:39:25.912609",
     "exception": false,
     "start_time": "2024-08-14T03:39:25.869658",
     "status": "completed"
    },
    "tags": []
   },
   "outputs": [],
   "source": [
    "new_list = []\n",
    "for i in models:\n",
    "    new_list.append(i[2])"
   ]
  },
  {
   "cell_type": "code",
   "execution_count": 25,
   "id": "6f2c08cf",
   "metadata": {
    "execution": {
     "iopub.execute_input": "2024-08-14T03:39:25.964454Z",
     "iopub.status.busy": "2024-08-14T03:39:25.963905Z",
     "iopub.status.idle": "2024-08-14T03:39:25.972402Z",
     "shell.execute_reply": "2024-08-14T03:39:25.971481Z"
    },
    "papermill": {
     "duration": 0.029132,
     "end_time": "2024-08-14T03:39:25.974350",
     "exception": false,
     "start_time": "2024-08-14T03:39:25.945218",
     "status": "completed"
    },
    "tags": []
   },
   "outputs": [
    {
     "data": {
      "text/plain": [
       "[[LogisticRegression(), 'LogisticRegression', 0.7653631284916201],\n",
       " [KNeighborsClassifier(), 'KNeighborsClassifier', 0.7430167597765364],\n",
       " [SVC(), 'SVC', 0.7486033519553073],\n",
       " [DecisionTreeClassifier(), 'DecisionTreeClassifier', 0.7206703910614525],\n",
       " [RandomForestClassifier(), 'RandomForestClassifier', 0.7877094972067039],\n",
       " [AdaBoostClassifier(), 'AdaBoostClassifier', 0.7541899441340782],\n",
       " [GradientBoostingClassifier(),\n",
       "  'GradientBoostingClassifier',\n",
       "  0.776536312849162],\n",
       " [GaussianNB(), 'GaussianNB', 0.776536312849162],\n",
       " [MLPClassifier(), 'MLPClassifier', 0.776536312849162]]"
      ]
     },
     "execution_count": 25,
     "metadata": {},
     "output_type": "execute_result"
    }
   ],
   "source": [
    "models"
   ]
  },
  {
   "cell_type": "code",
   "execution_count": 26,
   "id": "e865df3c",
   "metadata": {
    "execution": {
     "iopub.execute_input": "2024-08-14T03:39:26.004467Z",
     "iopub.status.busy": "2024-08-14T03:39:26.004184Z",
     "iopub.status.idle": "2024-08-14T03:39:26.009369Z",
     "shell.execute_reply": "2024-08-14T03:39:26.008586Z"
    },
    "papermill": {
     "duration": 0.022463,
     "end_time": "2024-08-14T03:39:26.011340",
     "exception": false,
     "start_time": "2024-08-14T03:39:25.988877",
     "status": "completed"
    },
    "tags": []
   },
   "outputs": [
    {
     "data": {
      "text/plain": [
       "[0.7653631284916201,\n",
       " 0.7430167597765364,\n",
       " 0.7486033519553073,\n",
       " 0.7206703910614525,\n",
       " 0.7877094972067039,\n",
       " 0.7541899441340782,\n",
       " 0.776536312849162,\n",
       " 0.776536312849162,\n",
       " 0.776536312849162]"
      ]
     },
     "execution_count": 26,
     "metadata": {},
     "output_type": "execute_result"
    }
   ],
   "source": [
    "new_list"
   ]
  },
  {
   "cell_type": "code",
   "execution_count": 27,
   "id": "69be3d2e",
   "metadata": {
    "execution": {
     "iopub.execute_input": "2024-08-14T03:39:26.042034Z",
     "iopub.status.busy": "2024-08-14T03:39:26.041537Z",
     "iopub.status.idle": "2024-08-14T03:40:12.942753Z",
     "shell.execute_reply": "2024-08-14T03:40:12.941762Z"
    },
    "papermill": {
     "duration": 46.934897,
     "end_time": "2024-08-14T03:40:12.961045",
     "exception": false,
     "start_time": "2024-08-14T03:39:26.026148",
     "status": "completed"
    },
    "tags": []
   },
   "outputs": [
    {
     "name": "stdout",
     "output_type": "stream",
     "text": [
      "Best parameters for GaussianNB:\n",
      "{'var_smoothing': 1e-09}\n",
      "Best score: 0.7465\n",
      "--------------------------------------------------\n",
      "Best parameters for KNeighborsClassifier:\n",
      "{'metric': 'manhattan', 'n_neighbors': 10}\n",
      "Best score: 0.7997\n",
      "--------------------------------------------------\n",
      "Best parameters for RandomForestClassifier:\n",
      "{'criterion': 'gini', 'max_depth': 12, 'n_estimators': 100}\n",
      "Best score: 0.8180\n",
      "--------------------------------------------------\n"
     ]
    }
   ],
   "source": [
    "from sklearn.model_selection import GridSearchCV\n",
    "from sklearn.naive_bayes import GaussianNB\n",
    "from sklearn.neighbors import KNeighborsClassifier\n",
    "from sklearn.ensemble import RandomForestClassifier\n",
    "\n",
    "# Define hyperparameter grids for each classifier\n",
    "gaussian_grid = {\n",
    "    'var_smoothing': [1e-9, 1e-8, 1e-7, 1e-6]\n",
    "}\n",
    "\n",
    "knn_grid = {\n",
    "    'n_neighbors': range(1, 21),  # Try different neighbor counts\n",
    "    'metric': ['euclidean', 'manhattan', 'minkowski']  # Explore distance metrics\n",
    "}\n",
    "\n",
    "forest_grid = {\n",
    "    'n_estimators': [100, 200, 300],  # Number of trees in the forest\n",
    "    'max_depth': [4, 8, 12],  # Maximum depth of individual trees\n",
    "    'criterion': ['gini', 'entropy']  # Splitting criteria for tree nodes\n",
    "}\n",
    "\n",
    "# Define the classifiers\n",
    "classifiers = [\n",
    "    GaussianNB(),\n",
    "    KNeighborsClassifier(),\n",
    "    RandomForestClassifier(random_state=42)  # Set random state for reproducibility\n",
    "]\n",
    "\n",
    "# Loop through each classifier and perform grid search\n",
    "for classifier, grid in zip(classifiers, [gaussian_grid, knn_grid, forest_grid]):\n",
    "    clf = GridSearchCV(estimator=classifier, param_grid=grid, cv=5)  # 5-fold cross-validation\n",
    "    clf.fit(X, y)  # Replace X_train and y_train with your training data\n",
    "\n",
    "    # Print the best parameters and score for each classifier\n",
    "    print(f\"Best parameters for {classifier.__class__.__name__}:\")\n",
    "    print(clf.best_params_)\n",
    "    print(f\"Best score: {clf.best_score_:.4f}\")\n",
    "    print(\"-\" * 50)"
   ]
  },
  {
   "cell_type": "code",
   "execution_count": 28,
   "id": "9d425c0d",
   "metadata": {
    "execution": {
     "iopub.execute_input": "2024-08-14T03:40:12.993292Z",
     "iopub.status.busy": "2024-08-14T03:40:12.992583Z",
     "iopub.status.idle": "2024-08-14T03:40:13.686030Z",
     "shell.execute_reply": "2024-08-14T03:40:13.685165Z"
    },
    "papermill": {
     "duration": 0.711545,
     "end_time": "2024-08-14T03:40:13.688258",
     "exception": false,
     "start_time": "2024-08-14T03:40:12.976713",
     "status": "completed"
    },
    "tags": []
   },
   "outputs": [
    {
     "data": {
      "text/html": [
       "<style>#sk-container-id-1 {color: black;background-color: white;}#sk-container-id-1 pre{padding: 0;}#sk-container-id-1 div.sk-toggleable {background-color: white;}#sk-container-id-1 label.sk-toggleable__label {cursor: pointer;display: block;width: 100%;margin-bottom: 0;padding: 0.3em;box-sizing: border-box;text-align: center;}#sk-container-id-1 label.sk-toggleable__label-arrow:before {content: \"▸\";float: left;margin-right: 0.25em;color: #696969;}#sk-container-id-1 label.sk-toggleable__label-arrow:hover:before {color: black;}#sk-container-id-1 div.sk-estimator:hover label.sk-toggleable__label-arrow:before {color: black;}#sk-container-id-1 div.sk-toggleable__content {max-height: 0;max-width: 0;overflow: hidden;text-align: left;background-color: #f0f8ff;}#sk-container-id-1 div.sk-toggleable__content pre {margin: 0.2em;color: black;border-radius: 0.25em;background-color: #f0f8ff;}#sk-container-id-1 input.sk-toggleable__control:checked~div.sk-toggleable__content {max-height: 200px;max-width: 100%;overflow: auto;}#sk-container-id-1 input.sk-toggleable__control:checked~label.sk-toggleable__label-arrow:before {content: \"▾\";}#sk-container-id-1 div.sk-estimator input.sk-toggleable__control:checked~label.sk-toggleable__label {background-color: #d4ebff;}#sk-container-id-1 div.sk-label input.sk-toggleable__control:checked~label.sk-toggleable__label {background-color: #d4ebff;}#sk-container-id-1 input.sk-hidden--visually {border: 0;clip: rect(1px 1px 1px 1px);clip: rect(1px, 1px, 1px, 1px);height: 1px;margin: -1px;overflow: hidden;padding: 0;position: absolute;width: 1px;}#sk-container-id-1 div.sk-estimator {font-family: monospace;background-color: #f0f8ff;border: 1px dotted black;border-radius: 0.25em;box-sizing: border-box;margin-bottom: 0.5em;}#sk-container-id-1 div.sk-estimator:hover {background-color: #d4ebff;}#sk-container-id-1 div.sk-parallel-item::after {content: \"\";width: 100%;border-bottom: 1px solid gray;flex-grow: 1;}#sk-container-id-1 div.sk-label:hover label.sk-toggleable__label {background-color: #d4ebff;}#sk-container-id-1 div.sk-serial::before {content: \"\";position: absolute;border-left: 1px solid gray;box-sizing: border-box;top: 0;bottom: 0;left: 50%;z-index: 0;}#sk-container-id-1 div.sk-serial {display: flex;flex-direction: column;align-items: center;background-color: white;padding-right: 0.2em;padding-left: 0.2em;position: relative;}#sk-container-id-1 div.sk-item {position: relative;z-index: 1;}#sk-container-id-1 div.sk-parallel {display: flex;align-items: stretch;justify-content: center;background-color: white;position: relative;}#sk-container-id-1 div.sk-item::before, #sk-container-id-1 div.sk-parallel-item::before {content: \"\";position: absolute;border-left: 1px solid gray;box-sizing: border-box;top: 0;bottom: 0;left: 50%;z-index: -1;}#sk-container-id-1 div.sk-parallel-item {display: flex;flex-direction: column;z-index: 1;position: relative;background-color: white;}#sk-container-id-1 div.sk-parallel-item:first-child::after {align-self: flex-end;width: 50%;}#sk-container-id-1 div.sk-parallel-item:last-child::after {align-self: flex-start;width: 50%;}#sk-container-id-1 div.sk-parallel-item:only-child::after {width: 0;}#sk-container-id-1 div.sk-dashed-wrapped {border: 1px dashed gray;margin: 0 0.4em 0.5em 0.4em;box-sizing: border-box;padding-bottom: 0.4em;background-color: white;}#sk-container-id-1 div.sk-label label {font-family: monospace;font-weight: bold;display: inline-block;line-height: 1.2em;}#sk-container-id-1 div.sk-label-container {text-align: center;}#sk-container-id-1 div.sk-container {/* jupyter's `normalize.less` sets `[hidden] { display: none; }` but bootstrap.min.css set `[hidden] { display: none !important; }` so we also need the `!important` here to be able to override the default hidden behavior on the sphinx rendered scikit-learn.org. See: https://github.com/scikit-learn/scikit-learn/issues/21755 */display: inline-block !important;position: relative;}#sk-container-id-1 div.sk-text-repr-fallback {display: none;}</style><div id=\"sk-container-id-1\" class=\"sk-top-container\"><div class=\"sk-text-repr-fallback\"><pre>RandomForestClassifier(max_depth=8, min_samples_split=10, n_estimators=300)</pre><b>In a Jupyter environment, please rerun this cell to show the HTML representation or trust the notebook. <br />On GitHub, the HTML representation is unable to render, please try loading this page with nbviewer.org.</b></div><div class=\"sk-container\" hidden><div class=\"sk-item\"><div class=\"sk-estimator sk-toggleable\"><input class=\"sk-toggleable__control sk-hidden--visually\" id=\"sk-estimator-id-1\" type=\"checkbox\" checked><label for=\"sk-estimator-id-1\" class=\"sk-toggleable__label sk-toggleable__label-arrow\">RandomForestClassifier</label><div class=\"sk-toggleable__content\"><pre>RandomForestClassifier(max_depth=8, min_samples_split=10, n_estimators=300)</pre></div></div></div></div></div>"
      ],
      "text/plain": [
       "RandomForestClassifier(max_depth=8, min_samples_split=10, n_estimators=300)"
      ]
     },
     "execution_count": 28,
     "metadata": {},
     "output_type": "execute_result"
    }
   ],
   "source": [
    "#Creating the classifier \n",
    "from sklearn.ensemble import RandomForestClassifier\n",
    "model = RandomForestClassifier(max_depth=8, min_samples_split=10, n_estimators=300)\n",
    "model.fit(X,y)"
   ]
  },
  {
   "cell_type": "code",
   "execution_count": 29,
   "id": "7cd3f77a",
   "metadata": {
    "execution": {
     "iopub.execute_input": "2024-08-14T03:40:13.720129Z",
     "iopub.status.busy": "2024-08-14T03:40:13.719799Z",
     "iopub.status.idle": "2024-08-14T03:40:14.295780Z",
     "shell.execute_reply": "2024-08-14T03:40:14.295003Z"
    },
    "papermill": {
     "duration": 0.594327,
     "end_time": "2024-08-14T03:40:14.298134",
     "exception": false,
     "start_time": "2024-08-14T03:40:13.703807",
     "status": "completed"
    },
    "tags": []
   },
   "outputs": [],
   "source": [
    "from sklearn.ensemble import VotingClassifier\n",
    "\n",
    "# Assuming you have the best parameters stored in dictionaries for each classifier (e.g., best_params_gnb, best_params_knn, best_params_rf)\n",
    "\n",
    "# Create classifiers with the best hyperparameters\n",
    "gnb = GaussianNB(var_smoothing=1e-09)\n",
    "knn = KNeighborsClassifier(metric=\"manhattan\", n_neighbors=20)\n",
    "rf = RandomForestClassifier(criterion=\"entropy\",max_depth=12,n_estimators=200)  # Include random state\n",
    "\n",
    "# Create the voting classifier with hard or soft voting\n",
    "ensemble = VotingClassifier(estimators=[('gnb', gnb), ('knn', knn), ('rf', rf)], voting='hard')  # Change 'hard' to 'soft' for weighted voting\n",
    "\n",
    "# Train the ensemble model on your training data\n",
    "ensemble.fit(X, y)\n",
    "\n",
    "# Use the ensemble model for prediction on new data\n",
    "predictions = ensemble.predict(X_test)"
   ]
  },
  {
   "cell_type": "code",
   "execution_count": 30,
   "id": "76442cab",
   "metadata": {
    "execution": {
     "iopub.execute_input": "2024-08-14T03:40:14.375771Z",
     "iopub.status.busy": "2024-08-14T03:40:14.375146Z",
     "iopub.status.idle": "2024-08-14T03:40:14.381561Z",
     "shell.execute_reply": "2024-08-14T03:40:14.380690Z"
    },
    "papermill": {
     "duration": 0.025097,
     "end_time": "2024-08-14T03:40:14.383749",
     "exception": false,
     "start_time": "2024-08-14T03:40:14.358652",
     "status": "completed"
    },
    "tags": []
   },
   "outputs": [
    {
     "name": "stdout",
     "output_type": "stream",
     "text": [
      "Ensemble Model Accuracy: 0.8045\n"
     ]
    }
   ],
   "source": [
    "from sklearn.metrics import accuracy_score\n",
    "# Evaluate accuracy\n",
    "accuracy = accuracy_score(y_test, predictions)\n",
    "print(f\"Ensemble Model Accuracy: {accuracy:.4f}\")"
   ]
  },
  {
   "cell_type": "code",
   "execution_count": 31,
   "id": "180ed4dd",
   "metadata": {
    "execution": {
     "iopub.execute_input": "2024-08-14T03:40:14.416313Z",
     "iopub.status.busy": "2024-08-14T03:40:14.415987Z",
     "iopub.status.idle": "2024-08-14T03:40:14.424534Z",
     "shell.execute_reply": "2024-08-14T03:40:14.423568Z"
    },
    "papermill": {
     "duration": 0.027007,
     "end_time": "2024-08-14T03:40:14.426512",
     "exception": false,
     "start_time": "2024-08-14T03:40:14.399505",
     "status": "completed"
    },
    "tags": []
   },
   "outputs": [],
   "source": [
    "columns_to_be_encoded = ['Sex','Ticket','Cabin','Embarked']\n",
    "encoders = {column: LabelEncoder() for column in columns_to_be_encoded}\n",
    "\n",
    "for column in columns_to_be_encoded:\n",
    "    serving_df[column] = encoders[column].fit_transform(serving_df[column])\n",
    "    "
   ]
  },
  {
   "cell_type": "code",
   "execution_count": 32,
   "id": "4752dd92",
   "metadata": {
    "execution": {
     "iopub.execute_input": "2024-08-14T03:40:14.458812Z",
     "iopub.status.busy": "2024-08-14T03:40:14.458499Z",
     "iopub.status.idle": "2024-08-14T03:40:14.469911Z",
     "shell.execute_reply": "2024-08-14T03:40:14.469118Z"
    },
    "papermill": {
     "duration": 0.0298,
     "end_time": "2024-08-14T03:40:14.471799",
     "exception": false,
     "start_time": "2024-08-14T03:40:14.441999",
     "status": "completed"
    },
    "tags": []
   },
   "outputs": [],
   "source": [
    "scaler = MinMaxScaler()\n",
    "serving_df[['Pclass','Sex','Age','SibSp','Parch','Ticket','Fare','Cabin','Embarked']] = scaler.fit_transform(serving_df[['Pclass','Sex','Age','SibSp','Parch','Ticket','Fare','Cabin','Embarked']])"
   ]
  },
  {
   "cell_type": "code",
   "execution_count": 33,
   "id": "3efdbfe0",
   "metadata": {
    "execution": {
     "iopub.execute_input": "2024-08-14T03:40:14.503722Z",
     "iopub.status.busy": "2024-08-14T03:40:14.503447Z",
     "iopub.status.idle": "2024-08-14T03:40:14.508250Z",
     "shell.execute_reply": "2024-08-14T03:40:14.507303Z"
    },
    "papermill": {
     "duration": 0.022816,
     "end_time": "2024-08-14T03:40:14.510195",
     "exception": false,
     "start_time": "2024-08-14T03:40:14.487379",
     "status": "completed"
    },
    "tags": []
   },
   "outputs": [],
   "source": [
    "serving_df.fillna(0, inplace=True)"
   ]
  },
  {
   "cell_type": "code",
   "execution_count": 34,
   "id": "fa8bd7d4",
   "metadata": {
    "execution": {
     "iopub.execute_input": "2024-08-14T03:40:14.542210Z",
     "iopub.status.busy": "2024-08-14T03:40:14.541908Z",
     "iopub.status.idle": "2024-08-14T03:40:14.549366Z",
     "shell.execute_reply": "2024-08-14T03:40:14.548559Z"
    },
    "papermill": {
     "duration": 0.025434,
     "end_time": "2024-08-14T03:40:14.551349",
     "exception": false,
     "start_time": "2024-08-14T03:40:14.525915",
     "status": "completed"
    },
    "tags": []
   },
   "outputs": [
    {
     "data": {
      "text/plain": [
       "PassengerId    0\n",
       "Pclass         0\n",
       "Name           0\n",
       "Sex            0\n",
       "Age            0\n",
       "SibSp          0\n",
       "Parch          0\n",
       "Ticket         0\n",
       "Fare           0\n",
       "Cabin          0\n",
       "Embarked       0\n",
       "dtype: int64"
      ]
     },
     "execution_count": 34,
     "metadata": {},
     "output_type": "execute_result"
    }
   ],
   "source": [
    "serving_df.isnull().sum()"
   ]
  },
  {
   "cell_type": "code",
   "execution_count": 35,
   "id": "0f5a2c05",
   "metadata": {
    "execution": {
     "iopub.execute_input": "2024-08-14T03:40:14.583724Z",
     "iopub.status.busy": "2024-08-14T03:40:14.583434Z",
     "iopub.status.idle": "2024-08-14T03:40:15.138712Z",
     "shell.execute_reply": "2024-08-14T03:40:15.137719Z"
    },
    "papermill": {
     "duration": 0.573981,
     "end_time": "2024-08-14T03:40:15.140798",
     "exception": false,
     "start_time": "2024-08-14T03:40:14.566817",
     "status": "completed"
    },
    "tags": []
   },
   "outputs": [
    {
     "data": {
      "text/html": [
       "<style>#sk-container-id-2 {color: black;background-color: white;}#sk-container-id-2 pre{padding: 0;}#sk-container-id-2 div.sk-toggleable {background-color: white;}#sk-container-id-2 label.sk-toggleable__label {cursor: pointer;display: block;width: 100%;margin-bottom: 0;padding: 0.3em;box-sizing: border-box;text-align: center;}#sk-container-id-2 label.sk-toggleable__label-arrow:before {content: \"▸\";float: left;margin-right: 0.25em;color: #696969;}#sk-container-id-2 label.sk-toggleable__label-arrow:hover:before {color: black;}#sk-container-id-2 div.sk-estimator:hover label.sk-toggleable__label-arrow:before {color: black;}#sk-container-id-2 div.sk-toggleable__content {max-height: 0;max-width: 0;overflow: hidden;text-align: left;background-color: #f0f8ff;}#sk-container-id-2 div.sk-toggleable__content pre {margin: 0.2em;color: black;border-radius: 0.25em;background-color: #f0f8ff;}#sk-container-id-2 input.sk-toggleable__control:checked~div.sk-toggleable__content {max-height: 200px;max-width: 100%;overflow: auto;}#sk-container-id-2 input.sk-toggleable__control:checked~label.sk-toggleable__label-arrow:before {content: \"▾\";}#sk-container-id-2 div.sk-estimator input.sk-toggleable__control:checked~label.sk-toggleable__label {background-color: #d4ebff;}#sk-container-id-2 div.sk-label input.sk-toggleable__control:checked~label.sk-toggleable__label {background-color: #d4ebff;}#sk-container-id-2 input.sk-hidden--visually {border: 0;clip: rect(1px 1px 1px 1px);clip: rect(1px, 1px, 1px, 1px);height: 1px;margin: -1px;overflow: hidden;padding: 0;position: absolute;width: 1px;}#sk-container-id-2 div.sk-estimator {font-family: monospace;background-color: #f0f8ff;border: 1px dotted black;border-radius: 0.25em;box-sizing: border-box;margin-bottom: 0.5em;}#sk-container-id-2 div.sk-estimator:hover {background-color: #d4ebff;}#sk-container-id-2 div.sk-parallel-item::after {content: \"\";width: 100%;border-bottom: 1px solid gray;flex-grow: 1;}#sk-container-id-2 div.sk-label:hover label.sk-toggleable__label {background-color: #d4ebff;}#sk-container-id-2 div.sk-serial::before {content: \"\";position: absolute;border-left: 1px solid gray;box-sizing: border-box;top: 0;bottom: 0;left: 50%;z-index: 0;}#sk-container-id-2 div.sk-serial {display: flex;flex-direction: column;align-items: center;background-color: white;padding-right: 0.2em;padding-left: 0.2em;position: relative;}#sk-container-id-2 div.sk-item {position: relative;z-index: 1;}#sk-container-id-2 div.sk-parallel {display: flex;align-items: stretch;justify-content: center;background-color: white;position: relative;}#sk-container-id-2 div.sk-item::before, #sk-container-id-2 div.sk-parallel-item::before {content: \"\";position: absolute;border-left: 1px solid gray;box-sizing: border-box;top: 0;bottom: 0;left: 50%;z-index: -1;}#sk-container-id-2 div.sk-parallel-item {display: flex;flex-direction: column;z-index: 1;position: relative;background-color: white;}#sk-container-id-2 div.sk-parallel-item:first-child::after {align-self: flex-end;width: 50%;}#sk-container-id-2 div.sk-parallel-item:last-child::after {align-self: flex-start;width: 50%;}#sk-container-id-2 div.sk-parallel-item:only-child::after {width: 0;}#sk-container-id-2 div.sk-dashed-wrapped {border: 1px dashed gray;margin: 0 0.4em 0.5em 0.4em;box-sizing: border-box;padding-bottom: 0.4em;background-color: white;}#sk-container-id-2 div.sk-label label {font-family: monospace;font-weight: bold;display: inline-block;line-height: 1.2em;}#sk-container-id-2 div.sk-label-container {text-align: center;}#sk-container-id-2 div.sk-container {/* jupyter's `normalize.less` sets `[hidden] { display: none; }` but bootstrap.min.css set `[hidden] { display: none !important; }` so we also need the `!important` here to be able to override the default hidden behavior on the sphinx rendered scikit-learn.org. See: https://github.com/scikit-learn/scikit-learn/issues/21755 */display: inline-block !important;position: relative;}#sk-container-id-2 div.sk-text-repr-fallback {display: none;}</style><div id=\"sk-container-id-2\" class=\"sk-top-container\"><div class=\"sk-text-repr-fallback\"><pre>VotingClassifier(estimators=[(&#x27;gnb&#x27;, GaussianNB()),\n",
       "                             (&#x27;knn&#x27;,\n",
       "                              KNeighborsClassifier(metric=&#x27;manhattan&#x27;,\n",
       "                                                   n_neighbors=20)),\n",
       "                             (&#x27;rf&#x27;,\n",
       "                              RandomForestClassifier(criterion=&#x27;entropy&#x27;,\n",
       "                                                     max_depth=12,\n",
       "                                                     n_estimators=200))])</pre><b>In a Jupyter environment, please rerun this cell to show the HTML representation or trust the notebook. <br />On GitHub, the HTML representation is unable to render, please try loading this page with nbviewer.org.</b></div><div class=\"sk-container\" hidden><div class=\"sk-item sk-dashed-wrapped\"><div class=\"sk-label-container\"><div class=\"sk-label sk-toggleable\"><input class=\"sk-toggleable__control sk-hidden--visually\" id=\"sk-estimator-id-2\" type=\"checkbox\" ><label for=\"sk-estimator-id-2\" class=\"sk-toggleable__label sk-toggleable__label-arrow\">VotingClassifier</label><div class=\"sk-toggleable__content\"><pre>VotingClassifier(estimators=[(&#x27;gnb&#x27;, GaussianNB()),\n",
       "                             (&#x27;knn&#x27;,\n",
       "                              KNeighborsClassifier(metric=&#x27;manhattan&#x27;,\n",
       "                                                   n_neighbors=20)),\n",
       "                             (&#x27;rf&#x27;,\n",
       "                              RandomForestClassifier(criterion=&#x27;entropy&#x27;,\n",
       "                                                     max_depth=12,\n",
       "                                                     n_estimators=200))])</pre></div></div></div><div class=\"sk-parallel\"><div class=\"sk-parallel-item\"><div class=\"sk-item\"><div class=\"sk-label-container\"><div class=\"sk-label sk-toggleable\"><label>gnb</label></div></div><div class=\"sk-serial\"><div class=\"sk-item\"><div class=\"sk-estimator sk-toggleable\"><input class=\"sk-toggleable__control sk-hidden--visually\" id=\"sk-estimator-id-3\" type=\"checkbox\" ><label for=\"sk-estimator-id-3\" class=\"sk-toggleable__label sk-toggleable__label-arrow\">GaussianNB</label><div class=\"sk-toggleable__content\"><pre>GaussianNB()</pre></div></div></div></div></div></div><div class=\"sk-parallel-item\"><div class=\"sk-item\"><div class=\"sk-label-container\"><div class=\"sk-label sk-toggleable\"><label>knn</label></div></div><div class=\"sk-serial\"><div class=\"sk-item\"><div class=\"sk-estimator sk-toggleable\"><input class=\"sk-toggleable__control sk-hidden--visually\" id=\"sk-estimator-id-4\" type=\"checkbox\" ><label for=\"sk-estimator-id-4\" class=\"sk-toggleable__label sk-toggleable__label-arrow\">KNeighborsClassifier</label><div class=\"sk-toggleable__content\"><pre>KNeighborsClassifier(metric=&#x27;manhattan&#x27;, n_neighbors=20)</pre></div></div></div></div></div></div><div class=\"sk-parallel-item\"><div class=\"sk-item\"><div class=\"sk-label-container\"><div class=\"sk-label sk-toggleable\"><label>rf</label></div></div><div class=\"sk-serial\"><div class=\"sk-item\"><div class=\"sk-estimator sk-toggleable\"><input class=\"sk-toggleable__control sk-hidden--visually\" id=\"sk-estimator-id-5\" type=\"checkbox\" ><label for=\"sk-estimator-id-5\" class=\"sk-toggleable__label sk-toggleable__label-arrow\">RandomForestClassifier</label><div class=\"sk-toggleable__content\"><pre>RandomForestClassifier(criterion=&#x27;entropy&#x27;, max_depth=12, n_estimators=200)</pre></div></div></div></div></div></div></div></div></div></div>"
      ],
      "text/plain": [
       "VotingClassifier(estimators=[('gnb', GaussianNB()),\n",
       "                             ('knn',\n",
       "                              KNeighborsClassifier(metric='manhattan',\n",
       "                                                   n_neighbors=20)),\n",
       "                             ('rf',\n",
       "                              RandomForestClassifier(criterion='entropy',\n",
       "                                                     max_depth=12,\n",
       "                                                     n_estimators=200))])"
      ]
     },
     "execution_count": 35,
     "metadata": {},
     "output_type": "execute_result"
    }
   ],
   "source": [
    "from sklearn.ensemble import VotingClassifier\n",
    "\n",
    "# Assuming you have the best parameters stored in dictionaries for each classifier (e.g., best_params_gnb, best_params_knn, best_params_rf)\n",
    "\n",
    "# Create classifiers with the best hyperparameters\n",
    "gnb = GaussianNB(var_smoothing=1e-09)\n",
    "knn = KNeighborsClassifier(metric=\"manhattan\", n_neighbors=20)\n",
    "rf = RandomForestClassifier(criterion=\"entropy\",max_depth=12,n_estimators=200)  # Include random state\n",
    "\n",
    "# Create the voting classifier with hard or soft voting\n",
    "model = VotingClassifier(estimators=[('gnb', gnb), ('knn', knn), ('rf', rf)], voting='hard')  # Change 'hard' to 'soft' for weighted voting\n",
    "\n",
    "# Train the ensemble model on your training data\n",
    "model.fit(X, y)\n"
   ]
  },
  {
   "cell_type": "code",
   "execution_count": 36,
   "id": "22ff02a4",
   "metadata": {
    "execution": {
     "iopub.execute_input": "2024-08-14T03:40:15.174174Z",
     "iopub.status.busy": "2024-08-14T03:40:15.173800Z",
     "iopub.status.idle": "2024-08-14T03:40:15.178760Z",
     "shell.execute_reply": "2024-08-14T03:40:15.177766Z"
    },
    "papermill": {
     "duration": 0.024011,
     "end_time": "2024-08-14T03:40:15.180913",
     "exception": false,
     "start_time": "2024-08-14T03:40:15.156902",
     "status": "completed"
    },
    "tags": []
   },
   "outputs": [
    {
     "name": "stdout",
     "output_type": "stream",
     "text": [
      "(179, 9)\n",
      "(418, 11)\n"
     ]
    }
   ],
   "source": [
    "print(X_test.shape)\n",
    "print(serving_df.shape)"
   ]
  },
  {
   "cell_type": "code",
   "execution_count": 37,
   "id": "f85e006c",
   "metadata": {
    "execution": {
     "iopub.execute_input": "2024-08-14T03:40:15.214585Z",
     "iopub.status.busy": "2024-08-14T03:40:15.214240Z",
     "iopub.status.idle": "2024-08-14T03:40:15.256314Z",
     "shell.execute_reply": "2024-08-14T03:40:15.255401Z"
    },
    "papermill": {
     "duration": 0.061629,
     "end_time": "2024-08-14T03:40:15.258451",
     "exception": false,
     "start_time": "2024-08-14T03:40:15.196822",
     "status": "completed"
    },
    "tags": []
   },
   "outputs": [],
   "source": [
    "# Predictions\n",
    "predictions = model.predict(X_test)\n",
    "output = pd.DataFrame({\n",
    "    'PassengerId': serving_df.iloc[:len(predictions)].PassengerId, \n",
    "    'Survived': predictions\n",
    "})\n",
    "output.to_csv('submission.csv', index=False)"
   ]
  }
 ],
 "metadata": {
  "kaggle": {
   "accelerator": "gpu",
   "dataSources": [
    {
     "databundleVersionId": 26502,
     "sourceId": 3136,
     "sourceType": "competition"
    }
   ],
   "dockerImageVersionId": 30747,
   "isGpuEnabled": true,
   "isInternetEnabled": true,
   "language": "python",
   "sourceType": "notebook"
  },
  "kernelspec": {
   "display_name": "Python 3",
   "language": "python",
   "name": "python3"
  },
  "language_info": {
   "codemirror_mode": {
    "name": "ipython",
    "version": 3
   },
   "file_extension": ".py",
   "mimetype": "text/x-python",
   "name": "python",
   "nbconvert_exporter": "python",
   "pygments_lexer": "ipython3",
   "version": "3.10.13"
  },
  "papermill": {
   "default_parameters": {},
   "duration": 93.156618,
   "end_time": "2024-08-14T03:40:16.596827",
   "environment_variables": {},
   "exception": null,
   "input_path": "__notebook__.ipynb",
   "output_path": "__notebook__.ipynb",
   "parameters": {},
   "start_time": "2024-08-14T03:38:43.440209",
   "version": "2.5.0"
  }
 },
 "nbformat": 4,
 "nbformat_minor": 5
}
